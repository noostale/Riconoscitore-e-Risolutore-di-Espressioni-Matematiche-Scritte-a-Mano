{
 "cells": [
  {
   "cell_type": "markdown",
   "id": "2e405ef6",
   "metadata": {
    "papermill": {
     "duration": 0.008404,
     "end_time": "2022-06-14T16:09:02.336781",
     "exception": false,
     "start_time": "2022-06-14T16:09:02.328377",
     "status": "completed"
    },
    "tags": []
   },
   "source": [
    "# Riconoscitore e risolutore di espressioni matematiche scritte a mano"
   ]
  },
  {
   "cell_type": "markdown",
   "id": "b9ec2cb6",
   "metadata": {},
   "source": [
    "![Logo Sapienza](logo.png \"Logo Sapienza\")\n",
    "\n",
    "Frasca Emanuele - 1836098"
   ]
  },
  {
   "cell_type": "markdown",
   "id": "9796156c",
   "metadata": {
    "papermill": {
     "duration": 0.008939,
     "end_time": "2022-06-14T16:09:02.355225",
     "exception": false,
     "start_time": "2022-06-14T16:09:02.346286",
     "status": "completed"
    },
    "tags": []
   },
   "source": [
    "# Caricamento delle librerie"
   ]
  },
  {
   "cell_type": "markdown",
   "id": "7f0243fd",
   "metadata": {},
   "source": [
    "Carichiamo le librerie che utilizzeremo nel progetto tra cui Numpy, Pandas, Matplotlib, OpenCV2, Sympy e Tensorflow."
   ]
  },
  {
   "cell_type": "code",
   "execution_count": 1,
   "id": "8298a04c",
   "metadata": {
    "execution": {
     "iopub.execute_input": "2022-06-14T16:09:02.375875Z",
     "iopub.status.busy": "2022-06-14T16:09:02.375359Z",
     "iopub.status.idle": "2022-06-14T16:09:07.920733Z",
     "shell.execute_reply": "2022-06-14T16:09:07.919085Z"
    },
    "papermill": {
     "duration": 5.559084,
     "end_time": "2022-06-14T16:09:07.923704",
     "exception": false,
     "start_time": "2022-06-14T16:09:02.364620",
     "status": "completed"
    },
    "tags": []
   },
   "outputs": [
    {
     "name": "stdout",
     "output_type": "stream",
     "text": [
      "Sto per caricare le librerie necessarie...\n",
      "Sto per caricare Numpy, Pandas e Matplotlib...\n",
      "Sto per caricare os...\n",
      "Sto per caricare re, math e sympy...\n",
      "Sto per caricare PIL e OpenCV...\n",
      "Sto per caricare Tensorflow e Keras...\n",
      "Controllo se sono disponibili delle GPU per il training del modello:\n",
      "Non sono disponibili GPU\n",
      "Fatto\n"
     ]
    }
   ],
   "source": [
    "print(\"Sto per caricare le librerie necessarie...\")\n",
    "\n",
    "print(\"Sto per caricare Numpy, Pandas e Matplotlib...\")\n",
    "import numpy as np\n",
    "import pandas as pd\n",
    "from matplotlib import pyplot as plt\n",
    "import matplotlib.image as mpimg\n",
    "%matplotlib inline\n",
    "\n",
    "print(\"Sto per caricare os...\")\n",
    "import os\n",
    "from os import listdir\n",
    "from os.path import isfile, join\n",
    "\n",
    "print(\"Sto per caricare re, math e sympy...\")\n",
    "import re\n",
    "import math\n",
    "from sympy import symbols, Eq, solve\n",
    "from sympy.parsing.sympy_parser import parse_expr\n",
    "from sympy import *\n",
    "\n",
    "print(\"Sto per caricare PIL e OpenCV...\")\n",
    "import cv2\n",
    "from PIL import Image\n",
    "\n",
    "print(\"Sto per caricare Tensorflow e Keras...\")\n",
    "import keras\n",
    "from keras import optimizers\n",
    "from keras import backend as K\n",
    "from keras.models import Model, Sequential, load_model\n",
    "from keras.layers import *\n",
    "from keras.layers import Input, Dense, Dropout, Flatten\n",
    "from keras.utils import np_utils\n",
    "from keras.layers.convolutional import Conv2D, MaxPooling2D\n",
    "from keras.utils.np_utils import to_categorical\n",
    "from keras.utils.vis_utils import plot_model\n",
    "from tensorflow.keras.callbacks import ModelCheckpoint\n",
    "from tensorflow.keras.optimizers import Adam\n",
    "K.image_data_format()\n",
    "\n",
    "print(\"Controllo se sono disponibili delle GPU per il training del modello:\")\n",
    "gpu = tf.config.list_physical_devices('GPU')\n",
    "if len(gpu) == 0: print(\"Non sono disponibili GPU\") \n",
    "else: print(gpu)\n",
    "\n",
    "\n",
    "print(\"Fatto\")"
   ]
  },
  {
   "cell_type": "markdown",
   "id": "bf72df9a",
   "metadata": {
    "papermill": {
     "duration": 0.005879,
     "end_time": "2022-06-14T16:09:07.935993",
     "exception": false,
     "start_time": "2022-06-14T16:09:07.930114",
     "status": "completed"
    },
    "tags": []
   },
   "source": [
    "# Definizione della funzione per il caricamento del dataset"
   ]
  },
  {
   "cell_type": "markdown",
   "id": "776f77e3",
   "metadata": {},
   "source": [
    "Stampiamo tutte le cartelle del nostro dataset."
   ]
  },
  {
   "cell_type": "code",
   "execution_count": 11,
   "id": "a87ac0d8",
   "metadata": {
    "execution": {
     "iopub.execute_input": "2022-06-14T16:09:07.948794Z",
     "iopub.status.busy": "2022-06-14T16:09:07.948294Z",
     "iopub.status.idle": "2022-06-14T16:09:07.960523Z",
     "shell.execute_reply": "2022-06-14T16:09:07.958953Z"
    },
    "papermill": {
     "duration": 0.020942,
     "end_time": "2022-06-14T16:09:07.962761",
     "exception": false,
     "start_time": "2022-06-14T16:09:07.941819",
     "status": "completed"
    },
    "tags": []
   },
   "outputs": [
    {
     "name": "stdout",
     "output_type": "stream",
     "text": [
      "Queste sono le cartelle del dataset:\n",
      "['!', '(', ')', '+', '-', '0', '1', '2', '3', '4', '5', '6', '7', '8', '9', 'cos', 'div', 'eq', 'mul', 'sin', 'y', 'z', '[', ']']\n"
     ]
    }
   ],
   "source": [
    "p = \"training/\"\n",
    "t = \"test/\"\n",
    "\n",
    "print(\"Queste sono le cartelle del dataset:\")\n",
    "\n",
    "folders = []\n",
    "\n",
    "for f in os.listdir(p):\n",
    "    folders.append(f)\n",
    "\n",
    "print(folders)\n"
   ]
  },
  {
   "cell_type": "markdown",
   "id": "04cdf1f6",
   "metadata": {},
   "source": [
    "Definiamo una funzione che presa una cartella contenete immagini che rappresentano un elemento di un'espressione ne effettua un preprocessing in modo tale che le immagini siano standardizzate per poi poter essere lette dal modello."
   ]
  },
  {
   "cell_type": "code",
   "execution_count": 30,
   "id": "1acafd9d",
   "metadata": {
    "execution": {
     "iopub.execute_input": "2022-06-14T16:09:07.976002Z",
     "iopub.status.busy": "2022-06-14T16:09:07.975731Z",
     "iopub.status.idle": "2022-06-14T16:09:07.985173Z",
     "shell.execute_reply": "2022-06-14T16:09:07.984495Z"
    },
    "papermill": {
     "duration": 0.017644,
     "end_time": "2022-06-14T16:09:07.986789",
     "exception": false,
     "start_time": "2022-06-14T16:09:07.969145",
     "status": "completed"
    },
    "tags": []
   },
   "outputs": [
    {
     "name": "stdout",
     "output_type": "stream",
     "text": [
      "Definisco una funzione per caricare le immagini...\n",
      "Fatto\n"
     ]
    }
   ],
   "source": [
    "print(\"Definisco una funzione per caricare le immagini...\")\n",
    "\n",
    "max_elems = 500 #numero massimo elementi da caricare per cartella\n",
    "\n",
    "def load_images(folder):\n",
    "    \n",
    "    train_data=[]\n",
    "    \n",
    "    num_elems = 0\n",
    "\n",
    "    for filename in os.listdir(folder):\n",
    "\n",
    "        num_elems = num_elems + 1\n",
    "\n",
    "        if num_elems == (max_elems + 1): break\n",
    "        \n",
    "        image = cv2.imread(os.path.join(folder,filename),cv2.IMREAD_GRAYSCALE)\n",
    "        image = ~image\n",
    "\n",
    "        if image is not None:\n",
    "\n",
    "            ret, thresh = cv2.threshold(image,127,255,cv2.THRESH_BINARY)\n",
    "            im_resize = cv2.resize(thresh,(28,28))\n",
    "            im_resize = np.reshape(im_resize,(784,1))\n",
    "            train_data.append(im_resize)\n",
    "\n",
    "    return train_data\n",
    "\n",
    "print(\"Fatto\")"
   ]
  },
  {
   "cell_type": "markdown",
   "id": "e3fbeced",
   "metadata": {},
   "source": [
    "Provo a caricare e stampare degli elementi contenuti nella cartella \"+\"."
   ]
  },
  {
   "cell_type": "code",
   "execution_count": 31,
   "id": "9d521c1d",
   "metadata": {},
   "outputs": [
    {
     "name": "stdout",
     "output_type": "stream",
     "text": [
      "Carico la cartella '+'...\n",
      "Fatto\n",
      "Effettuo il reshape di '+'...\n",
      "Fatto\n"
     ]
    },
    {
     "data": {
      "image/png": "[encoded data removed]",
      "text/plain": [
       "<Figure size 1200x700 with 15 Axes>"
      ]
     },
     "metadata": {},
     "output_type": "display_data"
    }
   ],
   "source": [
    "print(\"Carico la cartella '+'...\")\n",
    "lista = load_images(\"test/+\")\n",
    "print(\"Fatto\")\n",
    "\n",
    "\n",
    "fin_list = []\n",
    "\n",
    "print(\"Effettuo il reshape di '+'...\")\n",
    "for image in lista:\n",
    "    fin_list.append(image.reshape(28,28,1))\n",
    "print(\"Fatto\")\n",
    "\n",
    "_, axs = plt.subplots(3, 5, figsize=(12, 7))\n",
    "axs = axs.flatten()\n",
    "for img, ax in zip(fin_list, axs):\n",
    "    ax.imshow(img)\n",
    "plt.show()\n"
   ]
  },
  {
   "cell_type": "markdown",
   "id": "4b99afb3",
   "metadata": {
    "papermill": {
     "duration": 0.006002,
     "end_time": "2022-06-14T16:09:07.999015",
     "exception": false,
     "start_time": "2022-06-14T16:09:07.993013",
     "status": "completed"
    },
    "tags": []
   },
   "source": [
    "# Creazione array di training"
   ]
  },
  {
   "cell_type": "markdown",
   "id": "8d7b1e7c",
   "metadata": {},
   "source": [
    "Inizializzo l'array di training inserendo come primo elemento le immagini contenute nella cartella 0, poi effettuo una concatenzione di tutti gli altri elementi."
   ]
  },
  {
   "cell_type": "code",
   "execution_count": 33,
   "id": "4ff3457c",
   "metadata": {
    "execution": {
     "iopub.execute_input": "2022-06-14T16:09:08.011925Z",
     "iopub.status.busy": "2022-06-14T16:09:08.011380Z",
     "iopub.status.idle": "2022-06-14T16:09:11.261784Z",
     "shell.execute_reply": "2022-06-14T16:09:11.260443Z"
    },
    "papermill": {
     "duration": 3.259072,
     "end_time": "2022-06-14T16:09:11.264045",
     "exception": false,
     "start_time": "2022-06-14T16:09:08.004973",
     "status": "completed"
    },
    "tags": []
   },
   "outputs": [
    {
     "name": "stdout",
     "output_type": "stream",
     "text": [
      "Sto per inizializzare l'array di train...\n",
      "L'array di train contiene: 500 elementi\n",
      "Fatto\n"
     ]
    }
   ],
   "source": [
    "print(\"Sto per inizializzare l'array di train...\")\n",
    "\n",
    "train = load_images(p+\"0\")\n",
    "\n",
    "for i in range(0, len(train)):\n",
    "    train[i] = np.append(train[i], ['0'])\n",
    "\n",
    "print(\"L'array di train contiene: \" + str(len(train)) + \" elementi\")\n",
    "print(\"Fatto\")"
   ]
  },
  {
   "cell_type": "code",
   "execution_count": 34,
   "id": "c3c2c76f",
   "metadata": {
    "execution": {
     "iopub.execute_input": "2022-06-14T16:09:11.277841Z",
     "iopub.status.busy": "2022-06-14T16:09:11.277533Z",
     "iopub.status.idle": "2022-06-14T16:10:05.945475Z",
     "shell.execute_reply": "2022-06-14T16:10:05.944560Z"
    },
    "papermill": {
     "duration": 54.676614,
     "end_time": "2022-06-14T16:10:05.947257",
     "exception": false,
     "start_time": "2022-06-14T16:09:11.270643",
     "status": "completed"
    },
    "tags": []
   },
   "outputs": [
    {
     "name": "stdout",
     "output_type": "stream",
     "text": [
      "Sto lavorando con la cartella  !\n",
      "L'array di train contiene: 1000 elementi\n",
      "\n",
      "Sto lavorando con la cartella  (\n",
      "L'array di train contiene: 1500 elementi\n",
      "\n",
      "Sto lavorando con la cartella  )\n",
      "L'array di train contiene: 2000 elementi\n",
      "\n",
      "Sto lavorando con la cartella  +\n",
      "L'array di train contiene: 2500 elementi\n",
      "\n",
      "Sto lavorando con la cartella  -\n",
      "L'array di train contiene: 3000 elementi\n",
      "\n",
      "Sto lavorando con la cartella  1\n",
      "L'array di train contiene: 3500 elementi\n",
      "\n",
      "Sto lavorando con la cartella  2\n",
      "L'array di train contiene: 4000 elementi\n",
      "\n",
      "Sto lavorando con la cartella  3\n",
      "L'array di train contiene: 4500 elementi\n",
      "\n",
      "Sto lavorando con la cartella  4\n",
      "L'array di train contiene: 5000 elementi\n",
      "\n",
      "Sto lavorando con la cartella  5\n",
      "L'array di train contiene: 5500 elementi\n",
      "\n",
      "Sto lavorando con la cartella  6\n",
      "L'array di train contiene: 6000 elementi\n",
      "\n",
      "Sto lavorando con la cartella  7\n",
      "L'array di train contiene: 6500 elementi\n",
      "\n",
      "Sto lavorando con la cartella  8\n",
      "L'array di train contiene: 7000 elementi\n",
      "\n",
      "Sto lavorando con la cartella  9\n",
      "L'array di train contiene: 7500 elementi\n",
      "\n",
      "Sto lavorando con la cartella  cos\n",
      "L'array di train contiene: 8000 elementi\n",
      "\n",
      "Sto lavorando con la cartella  div\n",
      "L'array di train contiene: 8500 elementi\n",
      "\n",
      "Sto lavorando con la cartella  eq\n",
      "L'array di train contiene: 9000 elementi\n",
      "\n",
      "Sto lavorando con la cartella  mul\n",
      "L'array di train contiene: 9500 elementi\n",
      "\n",
      "Sto lavorando con la cartella  sin\n",
      "L'array di train contiene: 10000 elementi\n",
      "\n",
      "Sto lavorando con la cartella  y\n",
      "L'array di train contiene: 10500 elementi\n",
      "\n",
      "Sto lavorando con la cartella  z\n",
      "L'array di train contiene: 11000 elementi\n",
      "\n",
      "Sto lavorando con la cartella  [\n",
      "L'array di train contiene: 11500 elementi\n",
      "\n",
      "Sto lavorando con la cartella  ]\n",
      "L'array di train contiene: 12000 elementi\n",
      "\n",
      "Fatto\n"
     ]
    }
   ],
   "source": [
    "iter = 0\n",
    "\n",
    "for i in list(os.listdir(p)) :\n",
    "    \n",
    "    if i not in [\"0\"] :\n",
    "        \n",
    "        print(\"Sto lavorando con la cartella \", i)\n",
    "\n",
    "        data_i = load_images(p+i)\n",
    "\n",
    "        if i in [str(k) for k in range(1, 10)] :\n",
    "            for j in range(0, len(data_i)):\n",
    "                data_i[j] = np.append(data_i[j], [i])\n",
    "\n",
    "        if i == \"+\" :\n",
    "            for j in range(0, len(data_i)):\n",
    "                data_i[j] = np.append(data_i[j], [\"10\"])\n",
    "\n",
    "        if i == \"-\" :\n",
    "            for j in range(0, len(data_i)):\n",
    "                data_i[j] = np.append(data_i[j], [\"11\"])\n",
    "\n",
    "\n",
    "        if i == \"mul\" :\n",
    "            for j in range(0, len(data_i)):\n",
    "                data_i[j] = np.append(data_i[j], [\"12\"])\n",
    "\n",
    "        if i == \"div\" :\n",
    "            for j in range(0, len(data_i)):\n",
    "                data_i[j] = np.append(data_i[j], [\"13\"])\n",
    "\n",
    "        if i == \"eq\" :\n",
    "            for j in range(0, len(data_i)):\n",
    "                data_i[j] = np.append(data_i[j], [\"14\"])\n",
    "\n",
    "        if i == \"dec\" :\n",
    "            for j in range(0, len(data_i)):\n",
    "                data_i[j] = np.append(data_i[j], [\"15\"])\n",
    "\n",
    "\n",
    "        if i == \"y\" :\n",
    "            for j in range(0, len(data_i)):\n",
    "                data_i[j] = np.append(data_i[j], [\"16\"]) \n",
    "\n",
    "\n",
    "        if i == \"z\" :\n",
    "            for j in range(0, len(data_i)):\n",
    "                data_i[j] = np.append(data_i[j], [\"17\"]) \n",
    "        \n",
    "        if i == \"(\" :\n",
    "            for j in range(0, len(data_i)):\n",
    "                data_i[j] = np.append(data_i[j], [\"18\"]) \n",
    "        \n",
    "        if i == \")\" :\n",
    "            for j in range(0, len(data_i)):\n",
    "                data_i[j] = np.append(data_i[j], [\"19\"]) \n",
    "        \n",
    "        if i == \"!\" :\n",
    "            for j in range(0, len(data_i)):\n",
    "                data_i[j] = np.append(data_i[j], [\"20\"]) \n",
    "        \n",
    "        if i == \"sin\" :\n",
    "            for j in range(0, len(data_i)):\n",
    "                data_i[j] = np.append(data_i[j], [\"21\"]) \n",
    "        \n",
    "        if i == \"cos\" :\n",
    "            for j in range(0, len(data_i)):\n",
    "                data_i[j] = np.append(data_i[j], [\"22\"])\n",
    "            \n",
    "        if i == \"[\" :\n",
    "            for j in range(0, len(data_i)):\n",
    "                data_i[j] = np.append(data_i[j], [\"23\"])\n",
    "        \n",
    "        if i == \"]\" :\n",
    "            for j in range(0, len(data_i)):\n",
    "                data_i[j] = np.append(data_i[j], [\"24\"]) \n",
    "\n",
    "\n",
    "        train = np.concatenate((train, data_i))\n",
    "        print(\"L'array di train contiene: \" + str(len(train)) + \" elementi\")\n",
    "\n",
    "        print()\n",
    "\n",
    "        iter += 1\n",
    "\n",
    "print(\"Fatto\")"
   ]
  },
  {
   "cell_type": "markdown",
   "id": "adcd768b",
   "metadata": {},
   "source": [
    "# Creazione array di test"
   ]
  },
  {
   "cell_type": "markdown",
   "id": "db8744af",
   "metadata": {},
   "source": [
    "Inizializzo l'array di test inserendo come primo elemento le immagini contenute nella cartella 0, poi effettuo una concatenzione di tutti gli altri elementi."
   ]
  },
  {
   "cell_type": "code",
   "execution_count": 35,
   "id": "23a29b24",
   "metadata": {
    "execution": {
     "iopub.execute_input": "2022-06-14T16:09:08.011925Z",
     "iopub.status.busy": "2022-06-14T16:09:08.011380Z",
     "iopub.status.idle": "2022-06-14T16:09:11.261784Z",
     "shell.execute_reply": "2022-06-14T16:09:11.260443Z"
    },
    "papermill": {
     "duration": 3.259072,
     "end_time": "2022-06-14T16:09:11.264045",
     "exception": false,
     "start_time": "2022-06-14T16:09:08.004973",
     "status": "completed"
    },
    "tags": []
   },
   "outputs": [
    {
     "name": "stdout",
     "output_type": "stream",
     "text": [
      "Sto per inizializzare l'array di test...\n",
      "324\n"
     ]
    }
   ],
   "source": [
    "print(\"Sto per inizializzare l'array di test...\")\n",
    "\n",
    "test = load_images(t+\"0\")\n",
    "\n",
    "for i in range(0, len(test)):\n",
    "    test[i] = np.append(test[i], ['0'])\n",
    "\n",
    "print(len(test))"
   ]
  },
  {
   "cell_type": "code",
   "execution_count": 36,
   "id": "f089ff38",
   "metadata": {
    "execution": {
     "iopub.execute_input": "2022-06-14T16:09:11.277841Z",
     "iopub.status.busy": "2022-06-14T16:09:11.277533Z",
     "iopub.status.idle": "2022-06-14T16:10:05.945475Z",
     "shell.execute_reply": "2022-06-14T16:10:05.944560Z"
    },
    "papermill": {
     "duration": 54.676614,
     "end_time": "2022-06-14T16:10:05.947257",
     "exception": false,
     "start_time": "2022-06-14T16:09:11.270643",
     "status": "completed"
    },
    "tags": []
   },
   "outputs": [
    {
     "name": "stdout",
     "output_type": "stream",
     "text": [
      "Sto lavorando con la cartella  !\n",
      "L'array di test contiene: 504 elementi\n",
      "\n",
      "Sto lavorando con la cartella  (\n",
      "L'array di test contiene: 882 elementi\n",
      "\n",
      "Sto lavorando con la cartella  )\n",
      "L'array di test contiene: 1287 elementi\n",
      "\n",
      "Sto lavorando con la cartella  +\n",
      "L'array di test contiene: 1710 elementi\n",
      "\n",
      "Sto lavorando con la cartella  -\n",
      "L'array di test contiene: 2052 elementi\n",
      "\n",
      "Sto lavorando con la cartella  1\n",
      "L'array di test contiene: 2552 elementi\n",
      "\n",
      "Sto lavorando con la cartella  2\n",
      "L'array di test contiene: 3052 elementi\n",
      "\n",
      "Sto lavorando con la cartella  3\n",
      "L'array di test contiene: 3552 elementi\n",
      "\n",
      "Sto lavorando con la cartella  4\n",
      "L'array di test contiene: 4029 elementi\n",
      "\n",
      "Sto lavorando con la cartella  5\n",
      "L'array di test contiene: 4529 elementi\n",
      "\n",
      "Sto lavorando con la cartella  6\n",
      "L'array di test contiene: 5029 elementi\n",
      "\n",
      "Sto lavorando con la cartella  7\n",
      "L'array di test contiene: 5529 elementi\n",
      "\n",
      "Sto lavorando con la cartella  8\n",
      "L'array di test contiene: 6015 elementi\n",
      "\n",
      "Sto lavorando con la cartella  9\n",
      "L'array di test contiene: 6515 elementi\n",
      "\n",
      "Sto lavorando con la cartella  cos\n",
      "L'array di test contiene: 7015 elementi\n",
      "\n",
      "Sto lavorando con la cartella  dec\n",
      "L'array di test contiene: 7141 elementi\n",
      "\n",
      "Sto lavorando con la cartella  div\n",
      "L'array di test contiene: 7438 elementi\n",
      "\n",
      "Sto lavorando con la cartella  eq\n",
      "L'array di test contiene: 7916 elementi\n",
      "\n",
      "Sto lavorando con la cartella  mul\n",
      "L'array di test contiene: 8416 elementi\n",
      "\n",
      "Sto lavorando con la cartella  sin\n",
      "L'array di test contiene: 8794 elementi\n",
      "\n",
      "Sto lavorando con la cartella  y\n",
      "L'array di test contiene: 9280 elementi\n",
      "\n",
      "Sto lavorando con la cartella  z\n",
      "L'array di test contiene: 9780 elementi\n",
      "\n",
      "Sto lavorando con la cartella  [\n",
      "L'array di test contiene: 9969 elementi\n",
      "\n",
      "Sto lavorando con la cartella  ]\n",
      "L'array di test contiene: 10185 elementi\n",
      "\n",
      "Fatto\n"
     ]
    }
   ],
   "source": [
    "iter = 0\n",
    "\n",
    "for i in list(os.listdir(t)) :\n",
    "    \n",
    "    if i not in [\"0\"] :\n",
    "    \n",
    "        print(\"Sto lavorando con la cartella \", i)\n",
    "\n",
    "        data_i = load_images(t+i)\n",
    "\n",
    "        if i in [str(k) for k in range(1, 10)] :\n",
    "            for j in range(0, len(data_i)):\n",
    "                data_i[j] = np.append(data_i[j], [i])\n",
    "\n",
    "        if i == \"+\" :\n",
    "            for j in range(0, len(data_i)):\n",
    "                data_i[j] = np.append(data_i[j], [\"10\"])\n",
    "\n",
    "        if i == \"-\" :\n",
    "            for j in range(0, len(data_i)):\n",
    "                data_i[j] = np.append(data_i[j], [\"11\"])\n",
    "\n",
    "\n",
    "        if i == \"mul\" :\n",
    "            for j in range(0, len(data_i)):\n",
    "                data_i[j] = np.append(data_i[j], [\"12\"])\n",
    "\n",
    "        if i == \"div\" :\n",
    "            for j in range(0, len(data_i)):\n",
    "                data_i[j] = np.append(data_i[j], [\"13\"])\n",
    "\n",
    "        if i == \"eq\" :\n",
    "            for j in range(0, len(data_i)):\n",
    "                data_i[j] = np.append(data_i[j], [\"14\"])\n",
    "\n",
    "        if i == \"dec\" :\n",
    "            for j in range(0, len(data_i)):\n",
    "                data_i[j] = np.append(data_i[j], [\"15\"])\n",
    "\n",
    "\n",
    "        if i == \"y\" :\n",
    "            for j in range(0, len(data_i)):\n",
    "                data_i[j] = np.append(data_i[j], [\"16\"]) \n",
    "\n",
    "\n",
    "        if i == \"z\" :\n",
    "            for j in range(0, len(data_i)):\n",
    "                data_i[j] = np.append(data_i[j], [\"17\"]) \n",
    "        \n",
    "        if i == \"(\" :\n",
    "            for j in range(0, len(data_i)):\n",
    "                data_i[j] = np.append(data_i[j], [\"18\"]) \n",
    "        \n",
    "        if i == \")\" :\n",
    "            for j in range(0, len(data_i)):\n",
    "                data_i[j] = np.append(data_i[j], [\"19\"]) \n",
    "        \n",
    "        if i == \"!\" :\n",
    "            for j in range(0, len(data_i)):\n",
    "                data_i[j] = np.append(data_i[j], [\"20\"]) \n",
    "        \n",
    "        if i == \"sin\" :\n",
    "            for j in range(0, len(data_i)):\n",
    "                data_i[j] = np.append(data_i[j], [\"21\"]) \n",
    "        \n",
    "        if i == \"cos\" :\n",
    "            for j in range(0, len(data_i)):\n",
    "                data_i[j] = np.append(data_i[j], [\"22\"]) \n",
    "        \n",
    "        if i == \"[\" :\n",
    "            for j in range(0, len(data_i)):\n",
    "                data_i[j] = np.append(data_i[j], [\"23\"]) \n",
    "\n",
    "        if i == \"]\" :\n",
    "            for j in range(0, len(data_i)):\n",
    "                data_i[j] = np.append(data_i[j], [\"24\"]) \n",
    "\n",
    "\n",
    "        test = np.concatenate((test, data_i))\n",
    "        print(\"L'array di test contiene: \" + str(len(test)) + \" elementi\")\n",
    "\n",
    "        print()\n",
    "\n",
    "        iter += 1\n",
    "\n",
    "print(\"Fatto\")"
   ]
  },
  {
   "cell_type": "markdown",
   "id": "c26ae6c0",
   "metadata": {
    "papermill": {
     "duration": 0.006887,
     "end_time": "2022-06-14T16:10:05.961460",
     "exception": false,
     "start_time": "2022-06-14T16:10:05.954573",
     "status": "completed"
    },
    "tags": []
   },
   "source": [
    "# Creazione set di training"
   ]
  },
  {
   "cell_type": "markdown",
   "id": "6b0a57dd",
   "metadata": {},
   "source": [
    "Trasformo l'array di training in un dataframe di Pandas, poi estraggo le label contenute nell'ultima colonna."
   ]
  },
  {
   "cell_type": "code",
   "execution_count": 37,
   "id": "69c6aadc",
   "metadata": {
    "execution": {
     "iopub.execute_input": "2022-06-14T16:10:05.976920Z",
     "iopub.status.busy": "2022-06-14T16:10:05.976257Z",
     "iopub.status.idle": "2022-06-14T16:10:08.717539Z",
     "shell.execute_reply": "2022-06-14T16:10:08.716800Z"
    },
    "papermill": {
     "duration": 2.751058,
     "end_time": "2022-06-14T16:10:08.719487",
     "exception": false,
     "start_time": "2022-06-14T16:10:05.968429",
     "status": "completed"
    },
    "tags": []
   },
   "outputs": [
    {
     "data": {
      "text/html": [
       "<div>\n",
       "<style scoped>\n",
       "    .dataframe tbody tr th:only-of-type {\n",
       "        vertical-align: middle;\n",
       "    }\n",
       "\n",
       "    .dataframe tbody tr th {\n",
       "        vertical-align: top;\n",
       "    }\n",
       "\n",
       "    .dataframe thead th {\n",
       "        text-align: right;\n",
       "    }\n",
       "</style>\n",
       "<table border=\"1\" class=\"dataframe\">\n",
       "  <thead>\n",
       "    <tr style=\"text-align: right;\">\n",
       "      <th></th>\n",
       "      <th>0</th>\n",
       "      <th>1</th>\n",
       "      <th>2</th>\n",
       "      <th>3</th>\n",
       "      <th>4</th>\n",
       "      <th>5</th>\n",
       "      <th>6</th>\n",
       "      <th>7</th>\n",
       "      <th>8</th>\n",
       "      <th>9</th>\n",
       "      <th>...</th>\n",
       "      <th>774</th>\n",
       "      <th>775</th>\n",
       "      <th>776</th>\n",
       "      <th>777</th>\n",
       "      <th>778</th>\n",
       "      <th>779</th>\n",
       "      <th>780</th>\n",
       "      <th>781</th>\n",
       "      <th>782</th>\n",
       "      <th>783</th>\n",
       "    </tr>\n",
       "  </thead>\n",
       "  <tbody>\n",
       "    <tr>\n",
       "      <th>0</th>\n",
       "      <td>0</td>\n",
       "      <td>0</td>\n",
       "      <td>0</td>\n",
       "      <td>0</td>\n",
       "      <td>0</td>\n",
       "      <td>0</td>\n",
       "      <td>0</td>\n",
       "      <td>0</td>\n",
       "      <td>12</td>\n",
       "      <td>214</td>\n",
       "      <td>...</td>\n",
       "      <td>0</td>\n",
       "      <td>0</td>\n",
       "      <td>0</td>\n",
       "      <td>0</td>\n",
       "      <td>0</td>\n",
       "      <td>0</td>\n",
       "      <td>0</td>\n",
       "      <td>0</td>\n",
       "      <td>0</td>\n",
       "      <td>0</td>\n",
       "    </tr>\n",
       "    <tr>\n",
       "      <th>1</th>\n",
       "      <td>0</td>\n",
       "      <td>0</td>\n",
       "      <td>0</td>\n",
       "      <td>0</td>\n",
       "      <td>57</td>\n",
       "      <td>178</td>\n",
       "      <td>178</td>\n",
       "      <td>178</td>\n",
       "      <td>178</td>\n",
       "      <td>178</td>\n",
       "      <td>...</td>\n",
       "      <td>178</td>\n",
       "      <td>94</td>\n",
       "      <td>43</td>\n",
       "      <td>0</td>\n",
       "      <td>0</td>\n",
       "      <td>0</td>\n",
       "      <td>0</td>\n",
       "      <td>0</td>\n",
       "      <td>0</td>\n",
       "      <td>0</td>\n",
       "    </tr>\n",
       "    <tr>\n",
       "      <th>2</th>\n",
       "      <td>0</td>\n",
       "      <td>0</td>\n",
       "      <td>0</td>\n",
       "      <td>0</td>\n",
       "      <td>0</td>\n",
       "      <td>0</td>\n",
       "      <td>0</td>\n",
       "      <td>0</td>\n",
       "      <td>0</td>\n",
       "      <td>0</td>\n",
       "      <td>...</td>\n",
       "      <td>0</td>\n",
       "      <td>0</td>\n",
       "      <td>0</td>\n",
       "      <td>0</td>\n",
       "      <td>0</td>\n",
       "      <td>0</td>\n",
       "      <td>0</td>\n",
       "      <td>0</td>\n",
       "      <td>0</td>\n",
       "      <td>0</td>\n",
       "    </tr>\n",
       "    <tr>\n",
       "      <th>3</th>\n",
       "      <td>0</td>\n",
       "      <td>0</td>\n",
       "      <td>0</td>\n",
       "      <td>0</td>\n",
       "      <td>0</td>\n",
       "      <td>0</td>\n",
       "      <td>0</td>\n",
       "      <td>0</td>\n",
       "      <td>0</td>\n",
       "      <td>0</td>\n",
       "      <td>...</td>\n",
       "      <td>0</td>\n",
       "      <td>0</td>\n",
       "      <td>0</td>\n",
       "      <td>0</td>\n",
       "      <td>0</td>\n",
       "      <td>0</td>\n",
       "      <td>0</td>\n",
       "      <td>0</td>\n",
       "      <td>0</td>\n",
       "      <td>0</td>\n",
       "    </tr>\n",
       "    <tr>\n",
       "      <th>4</th>\n",
       "      <td>0</td>\n",
       "      <td>0</td>\n",
       "      <td>0</td>\n",
       "      <td>0</td>\n",
       "      <td>0</td>\n",
       "      <td>0</td>\n",
       "      <td>0</td>\n",
       "      <td>0</td>\n",
       "      <td>12</td>\n",
       "      <td>154</td>\n",
       "      <td>...</td>\n",
       "      <td>0</td>\n",
       "      <td>0</td>\n",
       "      <td>0</td>\n",
       "      <td>0</td>\n",
       "      <td>0</td>\n",
       "      <td>0</td>\n",
       "      <td>0</td>\n",
       "      <td>0</td>\n",
       "      <td>0</td>\n",
       "      <td>0</td>\n",
       "    </tr>\n",
       "  </tbody>\n",
       "</table>\n",
       "<p>5 rows × 784 columns</p>\n",
       "</div>"
      ],
      "text/plain": [
       "   0  1  2  3   4    5    6    7    8    9  ...  774  775  776  777  778  779  \\\n",
       "0  0  0  0  0   0    0    0    0   12  214  ...    0    0    0    0    0    0   \n",
       "1  0  0  0  0  57  178  178  178  178  178  ...  178   94   43    0    0    0   \n",
       "2  0  0  0  0   0    0    0    0    0    0  ...    0    0    0    0    0    0   \n",
       "3  0  0  0  0   0    0    0    0    0    0  ...    0    0    0    0    0    0   \n",
       "4  0  0  0  0   0    0    0    0   12  154  ...    0    0    0    0    0    0   \n",
       "\n",
       "   780  781  782  783  \n",
       "0    0    0    0    0  \n",
       "1    0    0    0    0  \n",
       "2    0    0    0    0  \n",
       "3    0    0    0    0  \n",
       "4    0    0    0    0  \n",
       "\n",
       "[5 rows x 784 columns]"
      ]
     },
     "execution_count": 37,
     "metadata": {},
     "output_type": "execute_result"
    }
   ],
   "source": [
    "df=pd.DataFrame(train,index=None)\n",
    "df.to_csv('train_handwritten.csv',index=False)\n",
    "\n",
    "data = pd.read_csv('train.csv',index_col=False)\n",
    "train_labels = data[['784']]\n",
    "\n",
    "data.drop(data.columns[[784]],axis=1,inplace=True)\n",
    "data.head()"
   ]
  },
  {
   "cell_type": "markdown",
   "id": "14c34b5d",
   "metadata": {},
   "source": [
    "Categorizzo le label per poter essere successivamente comprese dal modello."
   ]
  },
  {
   "cell_type": "code",
   "execution_count": 38,
   "id": "74fb86fd",
   "metadata": {
    "execution": {
     "iopub.execute_input": "2022-06-14T16:10:08.735498Z",
     "iopub.status.busy": "2022-06-14T16:10:08.735228Z",
     "iopub.status.idle": "2022-06-14T16:10:08.742302Z",
     "shell.execute_reply": "2022-06-14T16:10:08.741466Z"
    },
    "papermill": {
     "duration": 0.016821,
     "end_time": "2022-06-14T16:10:08.743928",
     "exception": false,
     "start_time": "2022-06-14T16:10:08.727107",
     "status": "completed"
    },
    "tags": []
   },
   "outputs": [
    {
     "data": {
      "text/plain": [
       "array([1., 0., 0., 0., 0., 0., 0., 0., 0., 0., 0., 0., 0., 0., 0., 0., 0.,\n",
       "       0., 0., 0., 0., 0., 0., 0., 0.], dtype=float32)"
      ]
     },
     "execution_count": 38,
     "metadata": {},
     "output_type": "execute_result"
    }
   ],
   "source": [
    "np.random.seed(1212)\n",
    "train_labels=np.array(train_labels)\n",
    "train_cat=to_categorical(train_labels,num_classes=25)\n",
    "train_cat[0]"
   ]
  },
  {
   "cell_type": "markdown",
   "id": "a52bcd9b",
   "metadata": {},
   "source": [
    "Riporto il dataframe in forma matriciale di numpy e ne effettuo un reshape."
   ]
  },
  {
   "cell_type": "code",
   "execution_count": 39,
   "id": "b279f66c",
   "metadata": {
    "execution": {
     "iopub.execute_input": "2022-06-14T16:10:08.759534Z",
     "iopub.status.busy": "2022-06-14T16:10:08.759248Z",
     "iopub.status.idle": "2022-06-14T16:10:08.764973Z",
     "shell.execute_reply": "2022-06-14T16:10:08.764294Z"
    },
    "papermill": {
     "duration": 0.015259,
     "end_time": "2022-06-14T16:10:08.766540",
     "exception": false,
     "start_time": "2022-06-14T16:10:08.751281",
     "status": "completed"
    },
    "tags": []
   },
   "outputs": [
    {
     "data": {
      "text/plain": [
       "(12000, 28, 28, 1)"
      ]
     },
     "execution_count": 39,
     "metadata": {},
     "output_type": "execute_result"
    }
   ],
   "source": [
    "temp=data.to_numpy()\n",
    "X_train = temp.reshape(temp.shape[0], 28, 28, 1)\n",
    "X_train.shape"
   ]
  },
  {
   "cell_type": "markdown",
   "id": "1197163d",
   "metadata": {},
   "source": [
    "# Creazione set di test"
   ]
  },
  {
   "cell_type": "markdown",
   "id": "f7ccc24e",
   "metadata": {},
   "source": [
    "Trasformo l'array di test un un dataframe di Pandas, poi estraggo le label contenute nell'ultima colonna."
   ]
  },
  {
   "cell_type": "code",
   "execution_count": 40,
   "id": "f5627888",
   "metadata": {
    "execution": {
     "iopub.execute_input": "2022-06-14T16:10:05.976920Z",
     "iopub.status.busy": "2022-06-14T16:10:05.976257Z",
     "iopub.status.idle": "2022-06-14T16:10:08.717539Z",
     "shell.execute_reply": "2022-06-14T16:10:08.716800Z"
    },
    "papermill": {
     "duration": 2.751058,
     "end_time": "2022-06-14T16:10:08.719487",
     "exception": false,
     "start_time": "2022-06-14T16:10:05.968429",
     "status": "completed"
    },
    "tags": []
   },
   "outputs": [
    {
     "data": {
      "text/html": [
       "<div>\n",
       "<style scoped>\n",
       "    .dataframe tbody tr th:only-of-type {\n",
       "        vertical-align: middle;\n",
       "    }\n",
       "\n",
       "    .dataframe tbody tr th {\n",
       "        vertical-align: top;\n",
       "    }\n",
       "\n",
       "    .dataframe thead th {\n",
       "        text-align: right;\n",
       "    }\n",
       "</style>\n",
       "<table border=\"1\" class=\"dataframe\">\n",
       "  <thead>\n",
       "    <tr style=\"text-align: right;\">\n",
       "      <th></th>\n",
       "      <th>0</th>\n",
       "      <th>1</th>\n",
       "      <th>2</th>\n",
       "      <th>3</th>\n",
       "      <th>4</th>\n",
       "      <th>5</th>\n",
       "      <th>6</th>\n",
       "      <th>7</th>\n",
       "      <th>8</th>\n",
       "      <th>9</th>\n",
       "      <th>...</th>\n",
       "      <th>774</th>\n",
       "      <th>775</th>\n",
       "      <th>776</th>\n",
       "      <th>777</th>\n",
       "      <th>778</th>\n",
       "      <th>779</th>\n",
       "      <th>780</th>\n",
       "      <th>781</th>\n",
       "      <th>782</th>\n",
       "      <th>783</th>\n",
       "    </tr>\n",
       "  </thead>\n",
       "  <tbody>\n",
       "    <tr>\n",
       "      <th>0</th>\n",
       "      <td>0</td>\n",
       "      <td>0</td>\n",
       "      <td>0</td>\n",
       "      <td>0</td>\n",
       "      <td>0</td>\n",
       "      <td>0</td>\n",
       "      <td>0</td>\n",
       "      <td>0</td>\n",
       "      <td>12</td>\n",
       "      <td>214</td>\n",
       "      <td>...</td>\n",
       "      <td>0</td>\n",
       "      <td>0</td>\n",
       "      <td>0</td>\n",
       "      <td>0</td>\n",
       "      <td>0</td>\n",
       "      <td>0</td>\n",
       "      <td>0</td>\n",
       "      <td>0</td>\n",
       "      <td>0</td>\n",
       "      <td>0</td>\n",
       "    </tr>\n",
       "    <tr>\n",
       "      <th>1</th>\n",
       "      <td>0</td>\n",
       "      <td>0</td>\n",
       "      <td>0</td>\n",
       "      <td>0</td>\n",
       "      <td>57</td>\n",
       "      <td>178</td>\n",
       "      <td>178</td>\n",
       "      <td>178</td>\n",
       "      <td>178</td>\n",
       "      <td>178</td>\n",
       "      <td>...</td>\n",
       "      <td>178</td>\n",
       "      <td>94</td>\n",
       "      <td>43</td>\n",
       "      <td>0</td>\n",
       "      <td>0</td>\n",
       "      <td>0</td>\n",
       "      <td>0</td>\n",
       "      <td>0</td>\n",
       "      <td>0</td>\n",
       "      <td>0</td>\n",
       "    </tr>\n",
       "    <tr>\n",
       "      <th>2</th>\n",
       "      <td>0</td>\n",
       "      <td>0</td>\n",
       "      <td>0</td>\n",
       "      <td>0</td>\n",
       "      <td>0</td>\n",
       "      <td>0</td>\n",
       "      <td>0</td>\n",
       "      <td>0</td>\n",
       "      <td>0</td>\n",
       "      <td>0</td>\n",
       "      <td>...</td>\n",
       "      <td>0</td>\n",
       "      <td>0</td>\n",
       "      <td>0</td>\n",
       "      <td>0</td>\n",
       "      <td>0</td>\n",
       "      <td>0</td>\n",
       "      <td>0</td>\n",
       "      <td>0</td>\n",
       "      <td>0</td>\n",
       "      <td>0</td>\n",
       "    </tr>\n",
       "    <tr>\n",
       "      <th>3</th>\n",
       "      <td>0</td>\n",
       "      <td>0</td>\n",
       "      <td>0</td>\n",
       "      <td>0</td>\n",
       "      <td>0</td>\n",
       "      <td>0</td>\n",
       "      <td>0</td>\n",
       "      <td>0</td>\n",
       "      <td>0</td>\n",
       "      <td>0</td>\n",
       "      <td>...</td>\n",
       "      <td>0</td>\n",
       "      <td>0</td>\n",
       "      <td>0</td>\n",
       "      <td>0</td>\n",
       "      <td>0</td>\n",
       "      <td>0</td>\n",
       "      <td>0</td>\n",
       "      <td>0</td>\n",
       "      <td>0</td>\n",
       "      <td>0</td>\n",
       "    </tr>\n",
       "    <tr>\n",
       "      <th>4</th>\n",
       "      <td>0</td>\n",
       "      <td>0</td>\n",
       "      <td>0</td>\n",
       "      <td>0</td>\n",
       "      <td>0</td>\n",
       "      <td>0</td>\n",
       "      <td>0</td>\n",
       "      <td>0</td>\n",
       "      <td>12</td>\n",
       "      <td>154</td>\n",
       "      <td>...</td>\n",
       "      <td>0</td>\n",
       "      <td>0</td>\n",
       "      <td>0</td>\n",
       "      <td>0</td>\n",
       "      <td>0</td>\n",
       "      <td>0</td>\n",
       "      <td>0</td>\n",
       "      <td>0</td>\n",
       "      <td>0</td>\n",
       "      <td>0</td>\n",
       "    </tr>\n",
       "  </tbody>\n",
       "</table>\n",
       "<p>5 rows × 784 columns</p>\n",
       "</div>"
      ],
      "text/plain": [
       "   0  1  2  3   4    5    6    7    8    9  ...  774  775  776  777  778  779  \\\n",
       "0  0  0  0  0   0    0    0    0   12  214  ...    0    0    0    0    0    0   \n",
       "1  0  0  0  0  57  178  178  178  178  178  ...  178   94   43    0    0    0   \n",
       "2  0  0  0  0   0    0    0    0    0    0  ...    0    0    0    0    0    0   \n",
       "3  0  0  0  0   0    0    0    0    0    0  ...    0    0    0    0    0    0   \n",
       "4  0  0  0  0   0    0    0    0   12  154  ...    0    0    0    0    0    0   \n",
       "\n",
       "   780  781  782  783  \n",
       "0    0    0    0    0  \n",
       "1    0    0    0    0  \n",
       "2    0    0    0    0  \n",
       "3    0    0    0    0  \n",
       "4    0    0    0    0  \n",
       "\n",
       "[5 rows x 784 columns]"
      ]
     },
     "execution_count": 40,
     "metadata": {},
     "output_type": "execute_result"
    }
   ],
   "source": [
    "df=pd.DataFrame(test,index=None)\n",
    "df.to_csv('test_handwritten.csv',index=False)\n",
    "\n",
    "test = pd.read_csv('test.csv',index_col=False)\n",
    "test_labels = test[['784']]\n",
    "\n",
    "test.drop(test.columns[[784]],axis=1,inplace=True)\n",
    "test.head()"
   ]
  },
  {
   "cell_type": "markdown",
   "id": "6d08132d",
   "metadata": {},
   "source": [
    "Categorizzo le label per poter essere successivamente comprese dal modello."
   ]
  },
  {
   "cell_type": "code",
   "execution_count": 41,
   "id": "f74cd07d",
   "metadata": {
    "execution": {
     "iopub.execute_input": "2022-06-14T16:10:08.735498Z",
     "iopub.status.busy": "2022-06-14T16:10:08.735228Z",
     "iopub.status.idle": "2022-06-14T16:10:08.742302Z",
     "shell.execute_reply": "2022-06-14T16:10:08.741466Z"
    },
    "papermill": {
     "duration": 0.016821,
     "end_time": "2022-06-14T16:10:08.743928",
     "exception": false,
     "start_time": "2022-06-14T16:10:08.727107",
     "status": "completed"
    },
    "tags": []
   },
   "outputs": [
    {
     "data": {
      "text/plain": [
       "array([1., 0., 0., 0., 0., 0., 0., 0., 0., 0., 0., 0., 0., 0., 0., 0., 0.,\n",
       "       0., 0., 0., 0., 0., 0., 0., 0.], dtype=float32)"
      ]
     },
     "execution_count": 41,
     "metadata": {},
     "output_type": "execute_result"
    }
   ],
   "source": [
    "np.random.seed(1212)\n",
    "test_labels=np.array(test_labels)\n",
    "test_cat=to_categorical(test_labels,num_classes=25)\n",
    "test_cat[0]"
   ]
  },
  {
   "cell_type": "markdown",
   "id": "c16c80dd",
   "metadata": {},
   "source": [
    "Riporto il dataframe in forma matriciale di numpy e ne effettuo un reshape."
   ]
  },
  {
   "cell_type": "code",
   "execution_count": 42,
   "id": "7a6b36f6",
   "metadata": {
    "execution": {
     "iopub.execute_input": "2022-06-14T16:10:08.759534Z",
     "iopub.status.busy": "2022-06-14T16:10:08.759248Z",
     "iopub.status.idle": "2022-06-14T16:10:08.764973Z",
     "shell.execute_reply": "2022-06-14T16:10:08.764294Z"
    },
    "papermill": {
     "duration": 0.015259,
     "end_time": "2022-06-14T16:10:08.766540",
     "exception": false,
     "start_time": "2022-06-14T16:10:08.751281",
     "status": "completed"
    },
    "tags": []
   },
   "outputs": [
    {
     "data": {
      "text/plain": [
       "(10185, 28, 28, 1)"
      ]
     },
     "execution_count": 42,
     "metadata": {},
     "output_type": "execute_result"
    }
   ],
   "source": [
    "temp=test.to_numpy()\n",
    "X_test = temp.reshape(temp.shape[0], 28, 28, 1)\n",
    "X_test.shape"
   ]
  },
  {
   "cell_type": "markdown",
   "id": "e36ddd04",
   "metadata": {
    "papermill": {
     "duration": 0.007252,
     "end_time": "2022-06-14T16:10:09.212064",
     "exception": false,
     "start_time": "2022-06-14T16:10:09.204812",
     "status": "completed"
    },
    "tags": []
   },
   "source": [
    "# Definizione e training del modello"
   ]
  },
  {
   "cell_type": "markdown",
   "id": "9303a49d",
   "metadata": {},
   "source": [
    "Definisco il modello sequenziale che successivamente alleneremo, poi ne stampo un sommario."
   ]
  },
  {
   "cell_type": "code",
   "execution_count": 45,
   "id": "d8fd1bd7",
   "metadata": {
    "_kg_hide-output": true,
    "execution": {
     "iopub.execute_input": "2022-06-14T16:10:09.227903Z",
     "iopub.status.busy": "2022-06-14T16:10:09.227589Z",
     "iopub.status.idle": "2022-06-14T16:10:12.331616Z",
     "shell.execute_reply": "2022-06-14T16:10:12.330493Z"
    },
    "papermill": {
     "duration": 3.115375,
     "end_time": "2022-06-14T16:10:12.334765",
     "exception": false,
     "start_time": "2022-06-14T16:10:09.219390",
     "status": "completed"
    },
    "tags": []
   },
   "outputs": [
    {
     "name": "stdout",
     "output_type": "stream",
     "text": [
      "Model: \"sequential_1\"\n",
      "_________________________________________________________________\n",
      " Layer (type)                Output Shape              Param #   \n",
      "=================================================================\n",
      " conv2d_2 (Conv2D)           (None, 28, 28, 32)        320       \n",
      "                                                                 \n",
      " max_pooling2d_2 (MaxPooling  (None, 14, 14, 32)       0         \n",
      " 2D)                                                             \n",
      "                                                                 \n",
      " conv2d_3 (Conv2D)           (None, 12, 12, 15)        4335      \n",
      "                                                                 \n",
      " max_pooling2d_3 (MaxPooling  (None, 6, 6, 15)         0         \n",
      " 2D)                                                             \n",
      "                                                                 \n",
      " dropout_2 (Dropout)         (None, 6, 6, 15)          0         \n",
      "                                                                 \n",
      " flatten_1 (Flatten)         (None, 540)               0         \n",
      "                                                                 \n",
      " dense_3 (Dense)             (None, 128)               69248     \n",
      "                                                                 \n",
      " dropout_3 (Dropout)         (None, 128)               0         \n",
      "                                                                 \n",
      " dense_4 (Dense)             (None, 50)                6450      \n",
      "                                                                 \n",
      " dense_5 (Dense)             (None, 25)                1275      \n",
      "                                                                 \n",
      "=================================================================\n",
      "Total params: 81,628\n",
      "Trainable params: 81,628\n",
      "Non-trainable params: 0\n",
      "_________________________________________________________________\n"
     ]
    }
   ],
   "source": [
    "model = Sequential()\n",
    "model.add(Conv2D(32, (3,3), input_shape=(28, 28, 1), activation='relu',padding='same'))\n",
    "model.add(MaxPooling2D(pool_size=(2, 2)))\n",
    "model.add(Conv2D(15, (3, 3), activation='relu'))\n",
    "model.add(MaxPooling2D(pool_size=(2, 2)))\n",
    "model.add(Dropout(0.25)) # randomly drop units and their connections during the training process. In this case, we’ll drop 20% of the units:\n",
    "model.add(Flatten()) # convert the previous hidden layer into a 1D array:\n",
    "model.add(Dense(128, activation='relu')) # Relu is a piecewise linear function that will output the input directly if it is positive, otherwise, it will output zero.\n",
    "model.add(Dropout(0.5))\n",
    "model.add(Dense(50, activation='relu'))\n",
    "model.add(Dense(25, activation='softmax')) #The softmax activation is used when we’d like to classify the data into a number of pre-decided classes.\n",
    "model.summary()"
   ]
  },
  {
   "cell_type": "markdown",
   "id": "57e245a1",
   "metadata": {},
   "source": [
    "Compiliamo e alleniamo il nostro modello, successivamente lo salviamo nel file \"modello.h5\" (modello contenuto nella repository allenato con impostazioni differenti)."
   ]
  },
  {
   "cell_type": "code",
   "execution_count": 46,
   "id": "c5e840d8",
   "metadata": {
    "_kg_hide-output": true,
    "execution": {
     "iopub.execute_input": "2022-06-14T16:10:13.355855Z",
     "iopub.status.busy": "2022-06-14T16:10:13.355098Z",
     "iopub.status.idle": "2022-06-14T16:13:35.989980Z",
     "shell.execute_reply": "2022-06-14T16:13:35.989085Z"
    },
    "papermill": {
     "duration": 202.646984,
     "end_time": "2022-06-14T16:13:35.992011",
     "exception": false,
     "start_time": "2022-06-14T16:10:13.345027",
     "status": "completed"
    },
    "scrolled": true,
    "tags": []
   },
   "outputs": [
    {
     "name": "stdout",
     "output_type": "stream",
     "text": [
      "Epoch 1/50\n",
      "47/47 [==============================] - ETA: 0s - loss: 5.0568 - accuracy: 0.0614\n",
      "Epoch 1: accuracy improved from -inf to 0.06142, saving model to modello.h5\n",
      "47/47 [==============================] - 7s 124ms/step - loss: 5.0568 - accuracy: 0.0614 - val_loss: 3.1564 - val_accuracy: 0.1005\n",
      "Epoch 2/50\n",
      "47/47 [==============================] - ETA: 0s - loss: 3.0266 - accuracy: 0.1302\n",
      "Epoch 2: accuracy improved from 0.06142 to 0.13017, saving model to modello.h5\n",
      "47/47 [==============================] - 5s 100ms/step - loss: 3.0266 - accuracy: 0.1302 - val_loss: 2.7881 - val_accuracy: 0.2503\n",
      "Epoch 3/50\n",
      "47/47 [==============================] - ETA: 0s - loss: 2.4717 - accuracy: 0.3076\n",
      "Epoch 3: accuracy improved from 0.13017 to 0.30758, saving model to modello.h5\n",
      "47/47 [==============================] - 4s 95ms/step - loss: 2.4717 - accuracy: 0.3076 - val_loss: 1.9357 - val_accuracy: 0.5153\n",
      "Epoch 4/50\n",
      "47/47 [==============================] - ETA: 0s - loss: 1.7538 - accuracy: 0.4972\n",
      "Epoch 4: accuracy improved from 0.30758 to 0.49725, saving model to modello.h5\n",
      "47/47 [==============================] - 5s 102ms/step - loss: 1.7538 - accuracy: 0.4972 - val_loss: 1.2661 - val_accuracy: 0.6739\n",
      "Epoch 5/50\n",
      "47/47 [==============================] - ETA: 0s - loss: 1.3028 - accuracy: 0.6172\n",
      "Epoch 5: accuracy improved from 0.49725 to 0.61717, saving model to modello.h5\n",
      "47/47 [==============================] - 4s 94ms/step - loss: 1.3028 - accuracy: 0.6172 - val_loss: 1.0156 - val_accuracy: 0.7474\n",
      "Epoch 6/50\n",
      "47/47 [==============================] - ETA: 0s - loss: 1.0286 - accuracy: 0.6969\n",
      "Epoch 6: accuracy improved from 0.61717 to 0.69692, saving model to modello.h5\n",
      "47/47 [==============================] - 4s 92ms/step - loss: 1.0286 - accuracy: 0.6969 - val_loss: 0.8598 - val_accuracy: 0.7846\n",
      "Epoch 7/50\n",
      "47/47 [==============================] - ETA: 0s - loss: 0.9002 - accuracy: 0.7274\n",
      "Epoch 7: accuracy improved from 0.69692 to 0.72742, saving model to modello.h5\n",
      "47/47 [==============================] - 5s 96ms/step - loss: 0.9002 - accuracy: 0.7274 - val_loss: 0.7918 - val_accuracy: 0.8037\n",
      "Epoch 8/50\n",
      "47/47 [==============================] - ETA: 0s - loss: 0.7978 - accuracy: 0.7538\n",
      "Epoch 8: accuracy improved from 0.72742 to 0.75375, saving model to modello.h5\n",
      "47/47 [==============================] - 5s 103ms/step - loss: 0.7978 - accuracy: 0.7538 - val_loss: 0.7328 - val_accuracy: 0.8277\n",
      "Epoch 9/50\n",
      "47/47 [==============================] - ETA: 0s - loss: 0.6969 - accuracy: 0.7845\n",
      "Epoch 9: accuracy improved from 0.75375 to 0.78450, saving model to modello.h5\n",
      "47/47 [==============================] - 4s 95ms/step - loss: 0.6969 - accuracy: 0.7845 - val_loss: 0.6793 - val_accuracy: 0.8439\n",
      "Epoch 10/50\n",
      "47/47 [==============================] - ETA: 0s - loss: 0.6476 - accuracy: 0.8065\n",
      "Epoch 10: accuracy improved from 0.78450 to 0.80650, saving model to modello.h5\n",
      "47/47 [==============================] - 5s 100ms/step - loss: 0.6476 - accuracy: 0.8065 - val_loss: 0.6464 - val_accuracy: 0.8527\n",
      "Epoch 11/50\n",
      "47/47 [==============================] - ETA: 0s - loss: 0.5917 - accuracy: 0.8194\n",
      "Epoch 11: accuracy improved from 0.80650 to 0.81942, saving model to modello.h5\n",
      "47/47 [==============================] - 4s 93ms/step - loss: 0.5917 - accuracy: 0.8194 - val_loss: 0.6633 - val_accuracy: 0.8596\n",
      "Epoch 12/50\n",
      "47/47 [==============================] - ETA: 0s - loss: 0.5452 - accuracy: 0.8335\n",
      "Epoch 12: accuracy improved from 0.81942 to 0.83350, saving model to modello.h5\n",
      "47/47 [==============================] - 4s 95ms/step - loss: 0.5452 - accuracy: 0.8335 - val_loss: 0.6352 - val_accuracy: 0.8672\n",
      "Epoch 13/50\n",
      "47/47 [==============================] - ETA: 0s - loss: 0.5011 - accuracy: 0.8478\n",
      "Epoch 13: accuracy improved from 0.83350 to 0.84783, saving model to modello.h5\n",
      "47/47 [==============================] - 5s 97ms/step - loss: 0.5011 - accuracy: 0.8478 - val_loss: 0.6240 - val_accuracy: 0.8755\n",
      "Epoch 14/50\n",
      "47/47 [==============================] - ETA: 0s - loss: 0.4712 - accuracy: 0.8553\n",
      "Epoch 14: accuracy improved from 0.84783 to 0.85525, saving model to modello.h5\n",
      "47/47 [==============================] - 4s 94ms/step - loss: 0.4712 - accuracy: 0.8553 - val_loss: 0.6091 - val_accuracy: 0.8837\n",
      "Epoch 15/50\n",
      "47/47 [==============================] - ETA: 0s - loss: 0.4343 - accuracy: 0.8638\n",
      "Epoch 15: accuracy improved from 0.85525 to 0.86383, saving model to modello.h5\n",
      "47/47 [==============================] - 4s 93ms/step - loss: 0.4343 - accuracy: 0.8638 - val_loss: 0.6552 - val_accuracy: 0.8760\n",
      "Epoch 16/50\n",
      "47/47 [==============================] - ETA: 0s - loss: 0.4315 - accuracy: 0.8672\n",
      "Epoch 16: accuracy improved from 0.86383 to 0.86717, saving model to modello.h5\n",
      "47/47 [==============================] - 4s 95ms/step - loss: 0.4315 - accuracy: 0.8672 - val_loss: 0.6076 - val_accuracy: 0.8891\n",
      "Epoch 17/50\n",
      "47/47 [==============================] - ETA: 0s - loss: 0.3971 - accuracy: 0.8772\n",
      "Epoch 17: accuracy improved from 0.86717 to 0.87717, saving model to modello.h5\n",
      "47/47 [==============================] - 5s 98ms/step - loss: 0.3971 - accuracy: 0.8772 - val_loss: 0.6176 - val_accuracy: 0.8923\n",
      "Epoch 18/50\n",
      "47/47 [==============================] - ETA: 0s - loss: 0.3801 - accuracy: 0.8842\n",
      "Epoch 18: accuracy improved from 0.87717 to 0.88417, saving model to modello.h5\n",
      "47/47 [==============================] - 5s 99ms/step - loss: 0.3801 - accuracy: 0.8842 - val_loss: 0.6267 - val_accuracy: 0.8982\n",
      "Epoch 19/50\n",
      "47/47 [==============================] - ETA: 0s - loss: 0.3596 - accuracy: 0.8871\n",
      "Epoch 19: accuracy improved from 0.88417 to 0.88708, saving model to modello.h5\n",
      "47/47 [==============================] - 4s 94ms/step - loss: 0.3596 - accuracy: 0.8871 - val_loss: 0.6318 - val_accuracy: 0.8954\n",
      "Epoch 20/50\n",
      "47/47 [==============================] - ETA: 0s - loss: 0.3426 - accuracy: 0.8942\n",
      "Epoch 20: accuracy improved from 0.88708 to 0.89417, saving model to modello.h5\n",
      "47/47 [==============================] - 4s 92ms/step - loss: 0.3426 - accuracy: 0.8942 - val_loss: 0.6378 - val_accuracy: 0.8991\n",
      "Epoch 21/50\n",
      "47/47 [==============================] - ETA: 0s - loss: 0.3245 - accuracy: 0.8987\n",
      "Epoch 21: accuracy improved from 0.89417 to 0.89867, saving model to modello.h5\n",
      "47/47 [==============================] - 5s 103ms/step - loss: 0.3245 - accuracy: 0.8987 - val_loss: 0.6200 - val_accuracy: 0.9030\n",
      "Epoch 22/50\n",
      "47/47 [==============================] - ETA: 0s - loss: 0.3275 - accuracy: 0.8968\n",
      "Epoch 22: accuracy did not improve from 0.89867\n",
      "47/47 [==============================] - 6s 118ms/step - loss: 0.3275 - accuracy: 0.8968 - val_loss: 0.6407 - val_accuracy: 0.9072\n",
      "Epoch 23/50\n",
      "47/47 [==============================] - ETA: 0s - loss: 0.3022 - accuracy: 0.9092\n",
      "Epoch 23: accuracy improved from 0.89867 to 0.90917, saving model to modello.h5\n",
      "47/47 [==============================] - 5s 109ms/step - loss: 0.3022 - accuracy: 0.9092 - val_loss: 0.6603 - val_accuracy: 0.9058\n",
      "Epoch 24/50\n",
      "47/47 [==============================] - ETA: 0s - loss: 0.3021 - accuracy: 0.9029\n",
      "Epoch 24: accuracy did not improve from 0.90917\n",
      "47/47 [==============================] - 5s 107ms/step - loss: 0.3021 - accuracy: 0.9029 - val_loss: 0.6545 - val_accuracy: 0.9058\n",
      "Epoch 25/50\n",
      "47/47 [==============================] - ETA: 0s - loss: 0.2955 - accuracy: 0.9098\n",
      "Epoch 25: accuracy improved from 0.90917 to 0.90983, saving model to modello.h5\n",
      "47/47 [==============================] - 5s 107ms/step - loss: 0.2955 - accuracy: 0.9098 - val_loss: 0.6578 - val_accuracy: 0.9063\n",
      "Epoch 26/50\n",
      "47/47 [==============================] - ETA: 0s - loss: 0.2681 - accuracy: 0.9130\n",
      "Epoch 26: accuracy improved from 0.90983 to 0.91300, saving model to modello.h5\n",
      "47/47 [==============================] - 4s 92ms/step - loss: 0.2681 - accuracy: 0.9130 - val_loss: 0.6534 - val_accuracy: 0.9134\n",
      "Epoch 27/50\n",
      "47/47 [==============================] - ETA: 0s - loss: 0.2698 - accuracy: 0.9151\n",
      "Epoch 27: accuracy improved from 0.91300 to 0.91508, saving model to modello.h5\n",
      "47/47 [==============================] - 4s 93ms/step - loss: 0.2698 - accuracy: 0.9151 - val_loss: 0.6347 - val_accuracy: 0.9110\n",
      "Epoch 28/50\n",
      "47/47 [==============================] - ETA: 0s - loss: 0.2593 - accuracy: 0.9199\n",
      "Epoch 28: accuracy improved from 0.91508 to 0.91992, saving model to modello.h5\n",
      "47/47 [==============================] - 5s 113ms/step - loss: 0.2593 - accuracy: 0.9199 - val_loss: 0.6461 - val_accuracy: 0.9108\n",
      "Epoch 29/50\n",
      "47/47 [==============================] - ETA: 0s - loss: 0.2400 - accuracy: 0.9250\n",
      "Epoch 29: accuracy improved from 0.91992 to 0.92500, saving model to modello.h5\n",
      "47/47 [==============================] - 5s 105ms/step - loss: 0.2400 - accuracy: 0.9250 - val_loss: 0.6830 - val_accuracy: 0.9146\n",
      "Epoch 30/50\n",
      "47/47 [==============================] - ETA: 0s - loss: 0.2397 - accuracy: 0.9254\n",
      "Epoch 30: accuracy improved from 0.92500 to 0.92542, saving model to modello.h5\n",
      "47/47 [==============================] - 5s 96ms/step - loss: 0.2397 - accuracy: 0.9254 - val_loss: 0.6563 - val_accuracy: 0.9157\n",
      "Epoch 31/50\n",
      "47/47 [==============================] - ETA: 0s - loss: 0.2375 - accuracy: 0.9265\n",
      "Epoch 31: accuracy improved from 0.92542 to 0.92650, saving model to modello.h5\n",
      "47/47 [==============================] - 5s 99ms/step - loss: 0.2375 - accuracy: 0.9265 - val_loss: 0.7065 - val_accuracy: 0.9128\n",
      "Epoch 32/50\n",
      "47/47 [==============================] - ETA: 0s - loss: 0.2255 - accuracy: 0.9296\n",
      "Epoch 32: accuracy improved from 0.92650 to 0.92958, saving model to modello.h5\n",
      "47/47 [==============================] - 5s 97ms/step - loss: 0.2255 - accuracy: 0.9296 - val_loss: 0.6560 - val_accuracy: 0.9195\n",
      "Epoch 33/50\n",
      "47/47 [==============================] - ETA: 0s - loss: 0.2226 - accuracy: 0.9290\n",
      "Epoch 33: accuracy did not improve from 0.92958\n",
      "47/47 [==============================] - 4s 95ms/step - loss: 0.2226 - accuracy: 0.9290 - val_loss: 0.6931 - val_accuracy: 0.9179\n",
      "Epoch 34/50\n",
      "47/47 [==============================] - ETA: 0s - loss: 0.2160 - accuracy: 0.9327\n",
      "Epoch 34: accuracy improved from 0.92958 to 0.93275, saving model to modello.h5\n",
      "47/47 [==============================] - 5s 96ms/step - loss: 0.2160 - accuracy: 0.9327 - val_loss: 0.7007 - val_accuracy: 0.9132\n",
      "Epoch 35/50\n",
      "47/47 [==============================] - ETA: 0s - loss: 0.2033 - accuracy: 0.9331\n",
      "Epoch 35: accuracy improved from 0.93275 to 0.93308, saving model to modello.h5\n",
      "47/47 [==============================] - 5s 96ms/step - loss: 0.2033 - accuracy: 0.9331 - val_loss: 0.6792 - val_accuracy: 0.9144\n",
      "Epoch 36/50\n",
      "47/47 [==============================] - ETA: 0s - loss: 0.1998 - accuracy: 0.9373\n",
      "Epoch 36: accuracy improved from 0.93308 to 0.93733, saving model to modello.h5\n",
      "47/47 [==============================] - 5s 99ms/step - loss: 0.1998 - accuracy: 0.9373 - val_loss: 0.7069 - val_accuracy: 0.9184\n",
      "Epoch 37/50\n",
      "47/47 [==============================] - ETA: 0s - loss: 0.1995 - accuracy: 0.9383\n",
      "Epoch 37: accuracy improved from 0.93733 to 0.93825, saving model to modello.h5\n",
      "47/47 [==============================] - 5s 98ms/step - loss: 0.1995 - accuracy: 0.9383 - val_loss: 0.6764 - val_accuracy: 0.9210\n",
      "Epoch 38/50\n",
      "47/47 [==============================] - ETA: 0s - loss: 0.1953 - accuracy: 0.9384\n",
      "Epoch 38: accuracy improved from 0.93825 to 0.93842, saving model to modello.h5\n",
      "47/47 [==============================] - 5s 97ms/step - loss: 0.1953 - accuracy: 0.9384 - val_loss: 0.7120 - val_accuracy: 0.9221\n",
      "Epoch 39/50\n",
      "47/47 [==============================] - ETA: 0s - loss: 0.1835 - accuracy: 0.9419\n",
      "Epoch 39: accuracy improved from 0.93842 to 0.94192, saving model to modello.h5\n",
      "47/47 [==============================] - 6s 127ms/step - loss: 0.1835 - accuracy: 0.9419 - val_loss: 0.7238 - val_accuracy: 0.9188\n",
      "Epoch 40/50\n",
      "47/47 [==============================] - ETA: 0s - loss: 0.1943 - accuracy: 0.9384\n",
      "Epoch 40: accuracy did not improve from 0.94192\n",
      "47/47 [==============================] - 5s 100ms/step - loss: 0.1943 - accuracy: 0.9384 - val_loss: 0.7786 - val_accuracy: 0.9167\n",
      "Epoch 41/50\n",
      "47/47 [==============================] - ETA: 0s - loss: 0.1858 - accuracy: 0.9405\n",
      "Epoch 41: accuracy did not improve from 0.94192\n",
      "47/47 [==============================] - 5s 98ms/step - loss: 0.1858 - accuracy: 0.9405 - val_loss: 0.7363 - val_accuracy: 0.9219\n",
      "Epoch 42/50\n",
      "47/47 [==============================] - ETA: 0s - loss: 0.1809 - accuracy: 0.9442\n",
      "Epoch 42: accuracy improved from 0.94192 to 0.94425, saving model to modello.h5\n",
      "47/47 [==============================] - 5s 99ms/step - loss: 0.1809 - accuracy: 0.9442 - val_loss: 0.7831 - val_accuracy: 0.9228\n",
      "Epoch 43/50\n",
      "47/47 [==============================] - ETA: 0s - loss: 0.1723 - accuracy: 0.9436\n",
      "Epoch 43: accuracy did not improve from 0.94425\n",
      "47/47 [==============================] - 5s 105ms/step - loss: 0.1723 - accuracy: 0.9436 - val_loss: 0.7562 - val_accuracy: 0.9261\n",
      "Epoch 44/50\n",
      "47/47 [==============================] - ETA: 0s - loss: 0.1758 - accuracy: 0.9448\n",
      "Epoch 44: accuracy improved from 0.94425 to 0.94475, saving model to modello.h5\n",
      "47/47 [==============================] - 5s 98ms/step - loss: 0.1758 - accuracy: 0.9448 - val_loss: 0.7315 - val_accuracy: 0.9239\n",
      "Epoch 45/50\n",
      "47/47 [==============================] - ETA: 0s - loss: 0.1719 - accuracy: 0.9444\n",
      "Epoch 45: accuracy did not improve from 0.94475\n",
      "47/47 [==============================] - 5s 100ms/step - loss: 0.1719 - accuracy: 0.9444 - val_loss: 0.7765 - val_accuracy: 0.9205\n",
      "Epoch 46/50\n",
      "47/47 [==============================] - ETA: 0s - loss: 0.1705 - accuracy: 0.9467\n",
      "Epoch 46: accuracy improved from 0.94475 to 0.94667, saving model to modello.h5\n",
      "47/47 [==============================] - 5s 101ms/step - loss: 0.1705 - accuracy: 0.9467 - val_loss: 0.8042 - val_accuracy: 0.9245\n",
      "Epoch 47/50\n",
      "47/47 [==============================] - ETA: 0s - loss: 0.1574 - accuracy: 0.9505\n",
      "Epoch 47: accuracy improved from 0.94667 to 0.95050, saving model to modello.h5\n",
      "47/47 [==============================] - 5s 101ms/step - loss: 0.1574 - accuracy: 0.9505 - val_loss: 0.7909 - val_accuracy: 0.9246\n",
      "Epoch 48/50\n",
      "47/47 [==============================] - ETA: 0s - loss: 0.1578 - accuracy: 0.9488\n",
      "Epoch 48: accuracy did not improve from 0.95050\n",
      "47/47 [==============================] - 5s 105ms/step - loss: 0.1578 - accuracy: 0.9488 - val_loss: 0.7956 - val_accuracy: 0.9255\n",
      "Epoch 49/50\n",
      "47/47 [==============================] - ETA: 0s - loss: 0.1539 - accuracy: 0.9514\n",
      "Epoch 49: accuracy improved from 0.95050 to 0.95142, saving model to modello.h5\n",
      "47/47 [==============================] - 5s 103ms/step - loss: 0.1539 - accuracy: 0.9514 - val_loss: 0.8320 - val_accuracy: 0.9243\n",
      "Epoch 50/50\n",
      "47/47 [==============================] - ETA: 0s - loss: 0.1564 - accuracy: 0.9503\n",
      "Epoch 50: accuracy did not improve from 0.95142\n",
      "47/47 [==============================] - 5s 97ms/step - loss: 0.1564 - accuracy: 0.9503 - val_loss: 0.8142 - val_accuracy: 0.9272\n"
     ]
    }
   ],
   "source": [
    "checkpoint = ModelCheckpoint(\"modello.h5\", monitor='accuracy', verbose=1, save_best_only=True)\n",
    "model.compile(loss=\"categorical_crossentropy\", optimizer=Adam(learning_rate=0.001), metrics=['accuracy'])\n",
    "nn = model.fit(X_train, train_cat, epochs=50,validation_data=(X_test,test_cat), batch_size=256, shuffle=True, verbose=1, callbacks=[checkpoint]).history"
   ]
  },
  {
   "cell_type": "markdown",
   "id": "63ed8585",
   "metadata": {},
   "source": [
    "Effettuiamo un plotting dei risultati ottenuti dal nostro modello per valutare possibile overfitting."
   ]
  },
  {
   "cell_type": "code",
   "execution_count": 47,
   "id": "c4d93da7",
   "metadata": {
    "execution": {
     "iopub.execute_input": "2022-06-14T16:13:36.711765Z",
     "iopub.status.busy": "2022-06-14T16:13:36.711405Z",
     "iopub.status.idle": "2022-06-14T16:13:36.910284Z",
     "shell.execute_reply": "2022-06-14T16:13:36.909572Z"
    },
    "papermill": {
     "duration": 0.535965,
     "end_time": "2022-06-14T16:13:36.911946",
     "exception": false,
     "start_time": "2022-06-14T16:13:36.375981",
     "status": "completed"
    },
    "tags": []
   },
   "outputs": [
    {
     "data": {
      "text/plain": [
       "<matplotlib.legend.Legend at 0x2e249b139d0>"
      ]
     },
     "execution_count": 47,
     "metadata": {},
     "output_type": "execute_result"
    },
    {
     "data": {
      "image/png": "[encoded data removed]",
      "text/plain": [
       "<Figure size 640x480 with 1 Axes>"
      ]
     },
     "metadata": {},
     "output_type": "display_data"
    }
   ],
   "source": [
    "plt.plot(nn['loss'])\n",
    "plt.plot(nn['accuracy'])\n",
    "plt.plot(nn['val_loss'])\n",
    "plt.plot(nn['val_accuracy'])\n",
    "plt.title('model loss')\n",
    "plt.ylabel('loss and accuracy')\n",
    "plt.xlabel('epoch')\n",
    "plt.legend(['train_loss', 'train_accuracy', 'test_loss', 'test_accuracy'], loc='upper right')"
   ]
  },
  {
   "cell_type": "markdown",
   "id": "d90e86fc",
   "metadata": {
    "papermill": {
     "duration": 0.33404,
     "end_time": "2022-06-14T16:13:37.577676",
     "exception": false,
     "start_time": "2022-06-14T16:13:37.243636",
     "status": "completed"
    },
    "tags": []
   },
   "source": [
    "# Riconoscimento"
   ]
  },
  {
   "cell_type": "markdown",
   "id": "5bcf0682",
   "metadata": {},
   "source": [
    "Carichiamo il modello allenato in precedenza dal disco."
   ]
  },
  {
   "cell_type": "code",
   "execution_count": 52,
   "id": "3e9167d7",
   "metadata": {
    "execution": {
     "iopub.execute_input": "2022-06-14T16:13:38.283668Z",
     "iopub.status.busy": "2022-06-14T16:13:38.283247Z",
     "iopub.status.idle": "2022-06-14T16:13:38.389624Z",
     "shell.execute_reply": "2022-06-14T16:13:38.388799Z"
    },
    "papermill": {
     "duration": 0.4407,
     "end_time": "2022-06-14T16:13:38.391700",
     "exception": false,
     "start_time": "2022-06-14T16:13:37.951000",
     "status": "completed"
    },
    "tags": []
   },
   "outputs": [],
   "source": [
    "model = load_model(\"modello.h5\")"
   ]
  },
  {
   "cell_type": "markdown",
   "id": "d4959d02",
   "metadata": {},
   "source": [
    "Carico l'espressione da riconoscere dal disco e la stampo a schermo."
   ]
  },
  {
   "cell_type": "code",
   "execution_count": 54,
   "id": "3d240116",
   "metadata": {
    "execution": {
     "iopub.execute_input": "2022-06-14T16:13:39.055793Z",
     "iopub.status.busy": "2022-06-14T16:13:39.055380Z",
     "iopub.status.idle": "2022-06-14T16:13:39.276011Z",
     "shell.execute_reply": "2022-06-14T16:13:39.275310Z"
    },
    "papermill": {
     "duration": 0.553918,
     "end_time": "2022-06-14T16:13:39.277695",
     "exception": false,
     "start_time": "2022-06-14T16:13:38.723777",
     "status": "completed"
    },
    "tags": []
   },
   "outputs": [
    {
     "data": {
      "text/plain": [
       "<matplotlib.image.AxesImage at 0x2e249609180>"
      ]
     },
     "execution_count": 54,
     "metadata": {},
     "output_type": "execute_result"
    },
    {
     "data": {
      "image/png": "[encoded data removed]",
      "text/plain": [
       "<Figure size 1200x1200 with 1 Axes>"
      ]
     },
     "metadata": {},
     "output_type": "display_data"
    }
   ],
   "source": [
    "espressione = 'espressioni/1.png'\n",
    "\n",
    "img = cv2.imread(espressione,cv2.IMREAD_GRAYSCALE)\n",
    "plt.figure(figsize = (12,12))\n",
    "plt.imshow(img)"
   ]
  },
  {
   "cell_type": "markdown",
   "id": "43aa1b23",
   "metadata": {},
   "source": [
    "Per mezzo di OpenCV cerco i singoli elementi che compongono l'espressione, poi li stampo a video."
   ]
  },
  {
   "cell_type": "code",
   "execution_count": 55,
   "id": "23dd8b7c",
   "metadata": {
    "execution": {
     "iopub.execute_input": "2022-06-14T16:13:40.227682Z",
     "iopub.status.busy": "2022-06-14T16:13:40.227277Z",
     "iopub.status.idle": "2022-06-14T16:13:40.261190Z",
     "shell.execute_reply": "2022-06-14T16:13:40.260290Z"
    },
    "papermill": {
     "duration": 0.408954,
     "end_time": "2022-06-14T16:13:40.263323",
     "exception": false,
     "start_time": "2022-06-14T16:13:39.854369",
     "status": "completed"
    },
    "tags": []
   },
   "outputs": [
    {
     "name": "stdout",
     "output_type": "stream",
     "text": [
      "Ho trovato: 20 contorni\n",
      "Ho trovato un elemento con un'altezza minore di 20, effettuo una erode\n",
      "Ho trovato un elemento con un'altezza minore di 20, effettuo una erode\n"
     ]
    },
    {
     "data": {
      "image/png": "[encoded data removed]",
      "text/plain": [
       "<Figure size 1200x1200 with 1 Axes>"
      ]
     },
     "metadata": {},
     "output_type": "display_data"
    },
    {
     "data": {
      "image/png": "[encoded data removed]",
      "text/plain": [
       "<Figure size 1200x1200 with 25 Axes>"
      ]
     },
     "metadata": {},
     "output_type": "display_data"
    }
   ],
   "source": [
    "import matplotlib\n",
    "\n",
    "img = cv2.imread(espressione,cv2.IMREAD_GRAYSCALE)\n",
    "\n",
    "if img is not None:\n",
    "    img=~img\n",
    "    _,thresh=cv2.threshold(img,127,255,cv2.THRESH_BINARY)\n",
    "    ctrs,_=cv2.findContours(thresh,cv2.RETR_EXTERNAL,cv2.CHAIN_APPROX_NONE)\n",
    "    cnt=sorted(ctrs, key=lambda ctr: cv2.boundingRect(ctr)[0])\n",
    "\n",
    "    plt.figure(figsize = (12,12))\n",
    "    plt.imshow(thresh)\n",
    "\n",
    "    w=int(28)\n",
    "    h=int(28)\n",
    "    train_data=[]\n",
    "    print(\"Ho trovato: \" + str(len(cnt)) + \" contorni\")\n",
    "\n",
    "    rects=[]\n",
    "    for c in cnt :\n",
    "        x,y,w,h= cv2.boundingRect(c)\n",
    "        if(h>w*2):\n",
    "            w= w*2\n",
    "            x=x-25\n",
    "        rect=[x-4,y-4,w+4,h+4]\n",
    "        rects.append(rect)\n",
    "    bool_rect=[]\n",
    "\n",
    "    add=10\n",
    "\n",
    "    \n",
    "    for r in rects:\n",
    "        x=r[0]\n",
    "        y=r[1]\n",
    "        w=r[2]\n",
    "        h=r[3]\n",
    "\n",
    "        im_crop =thresh[y:y+h+add,x:x+w+add]\n",
    "        im_resize = cv2.resize(im_crop,(28,28))\n",
    "        im_resize=np.reshape(im_resize,(28,28,1))\n",
    "\n",
    "        if(h<20):\n",
    "            print(\"Ho trovato un elemento con un'altezza minore di 20, effettuo una erode\")\n",
    "            kernel = np.ones((8, 8), np.uint8)\n",
    "            im_resize = cv2.erode(im_resize, kernel, iterations=1)\n",
    "\n",
    "        train_data.append(im_resize)\n",
    "    \n",
    "\n",
    "rows = int(math.sqrt(len(train_data))) + 1\n",
    "cols = rows\n",
    "img_count = 0\n",
    "\n",
    "fig, axes = plt.subplots(nrows=rows, ncols=cols, figsize=(12,12))\n",
    "\n",
    "for i in range(rows):\n",
    "    for j in range(cols):        \n",
    "        if img_count < len(train_data):\n",
    "            axes[i, j].imshow(train_data[img_count])\n",
    "            img_count+=1\n"
   ]
  },
  {
   "cell_type": "markdown",
   "id": "aa600795",
   "metadata": {},
   "source": [
    "Effettuiamo delle predizioni su ogni singolo elemento che abbiamo individuato nella fase precedente grazie ed OpenCV utilizzando il modello creato in precedenza."
   ]
  },
  {
   "cell_type": "code",
   "execution_count": 61,
   "id": "7c9a4764",
   "metadata": {
    "execution": {
     "iopub.execute_input": "2022-06-14T16:13:40.932115Z",
     "iopub.status.busy": "2022-06-14T16:13:40.931764Z",
     "iopub.status.idle": "2022-06-14T16:13:41.129480Z",
     "shell.execute_reply": "2022-06-14T16:13:41.128711Z"
    },
    "papermill": {
     "duration": 0.535104,
     "end_time": "2022-06-14T16:13:41.131339",
     "exception": false,
     "start_time": "2022-06-14T16:13:40.596235",
     "status": "completed"
    },
    "tags": []
   },
   "outputs": [
    {
     "name": "stdout",
     "output_type": "stream",
     "text": [
      "1/1 [==============================] - 0s 33ms/step\n",
      "Il valore cercato è [3] con una probabilità del: 99.99980926513672 %\n",
      "1/1 [==============================] - 0s 31ms/step\n",
      "Il valore cercato è [7] con una probabilità del: 99.99992847442627 %\n",
      "1/1 [==============================] - 0s 30ms/step\n",
      "Il valore cercato è [11] con una probabilità del: 97.63168096542358 %\n",
      "1/1 [==============================] - 0s 62ms/step\n",
      "Il valore cercato è [4] con una probabilità del: 99.9976634979248 %\n",
      "1/1 [==============================] - 0s 31ms/step\n",
      "Il valore cercato è [2] con una probabilità del: 99.99969005584717 %\n",
      "1/1 [==============================] - 0s 30ms/step\n",
      "Il valore cercato è [11] con una probabilità del: 95.86306810379028 %\n",
      "1/1 [==============================] - 0s 34ms/step\n",
      "Il valore cercato è [6] con una probabilità del: 100.0 %\n",
      "1/1 [==============================] - 0s 26ms/step\n",
      "Il valore cercato è [12] con una probabilità del: 100.0 %\n",
      "1/1 [==============================] - 0s 31ms/step\n",
      "Il valore cercato è [16] con una probabilità del: 99.6586561203003 %\n",
      "1/1 [==============================] - 0s 38ms/step\n",
      "Il valore cercato è [10] con una probabilità del: 100.0 %\n",
      "1/1 [==============================] - 0s 28ms/step\n",
      "Il valore cercato è [18] con una probabilità del: 99.99994039535522 %\n",
      "1/1 [==============================] - 0s 38ms/step\n",
      "Il valore cercato è [3] con una probabilità del: 99.99978542327881 %\n",
      "1/1 [==============================] - 0s 30ms/step\n",
      "Il valore cercato è [10] con una probabilità del: 99.99992847442627 %\n",
      "1/1 [==============================] - 0s 35ms/step\n",
      "Il valore cercato è [7] con una probabilità del: 99.99985694885254 %\n",
      "1/1 [==============================] - 0s 47ms/step\n",
      "Il valore cercato è [19] con una probabilità del: 100.0 %\n",
      "1/1 [==============================] - 0s 27ms/step\n",
      "Il valore cercato è [12] con una probabilità del: 100.0 %\n",
      "1/1 [==============================] - 0s 27ms/step\n",
      "Il valore cercato è [22] con una probabilità del: 99.25018548965454 %\n",
      "1/1 [==============================] - 0s 45ms/step\n",
      "Il valore cercato è [18] con una probabilità del: 99.99994039535522 %\n",
      "1/1 [==============================] - 0s 22ms/step\n",
      "Il valore cercato è [4] con una probabilità del: 99.98137354850769 %\n",
      "1/1 [==============================] - 0s 30ms/step\n",
      "Il valore cercato è [19] con una probabilità del: 100.0 %\n",
      "\n",
      "\n",
      "L'espressione cercata è 37-42-6*y+(3+7)*cos(4) con una probabilità del  99.61907535791397 %\n"
     ]
    },
    {
     "data": {
      "image/png": "[encoded data removed]",
      "text/plain": [
       "<Figure size 1200x1200 with 1 Axes>"
      ]
     },
     "metadata": {},
     "output_type": "display_data"
    }
   ],
   "source": [
    "expression=''\n",
    "prob_tot = 0\n",
    "\n",
    "for i in range(len(train_data)):\n",
    "    \n",
    "    train_data[i]=np.array(train_data[i])\n",
    "    train_data[i]=train_data[i].reshape(1,28,28,1)\n",
    "    probabilities=model.predict(train_data[i])\n",
    "    \n",
    "    prediction = np.argmax(probabilities, axis=-1)\n",
    "\n",
    "    prob_tot = prob_tot + max(probabilities[0])*100\n",
    "\n",
    "    print(\"Il valore cercato è \" + str(prediction) + \" con una probabilità del: \" + str(max(probabilities[0])*100) + \" %\")\n",
    "    \n",
    "        \n",
    "    for j in range(10) :\n",
    "        if prediction[0] == j :\n",
    "            expression = expression + str(j)\n",
    "    \n",
    "    if prediction[0] == 10 :\n",
    "        expression = expression + \"+\"\n",
    "    if prediction[0] == 11 :\n",
    "        expression = expression + \"-\"\n",
    "    if prediction[0] == 12 :\n",
    "        expression = expression + \"*\"\n",
    "    if prediction[0] == 13 :\n",
    "        expression = expression + \"/\"\n",
    "    if prediction[0] == 14 :\n",
    "        expression = expression + \"=\"\n",
    "    if prediction[0] == 15 :\n",
    "        expression = expression + \".\"\n",
    "    if prediction[0] == 16 :\n",
    "        expression = expression + \"y\"      \n",
    "    if prediction[0] == 17 :\n",
    "        expression = expression + \"z\"\n",
    "    if prediction[0] == 18 :\n",
    "        expression = expression + \"(\"\n",
    "    if prediction[0] == 19 :\n",
    "        expression = expression + \")\"\n",
    "    if prediction[0] == 20 :\n",
    "        expression = expression + \"!\"\n",
    "    if prediction[0] == 21 :\n",
    "        expression = expression + \"sin\"\n",
    "    if prediction[0] == 22 :\n",
    "        expression = expression + \"cos\"\n",
    "    if prediction[0] == 23 :\n",
    "        expression = expression + \"[\"\n",
    "    if prediction[0] == 24 :\n",
    "        expression = expression + \"]\"\n",
    "\n",
    "plt.figure(figsize = (12,12))\n",
    "plt.imshow(img)\n",
    "print()\n",
    "print()\n",
    "print(\"L'espressione cercata è\", espressione, \"con una probabilità del \", prob_tot/len(train_data), \"%\")"
   ]
  },
  {
   "cell_type": "markdown",
   "id": "967eef6c",
   "metadata": {},
   "source": [
    "# Parsing e calcolo"
   ]
  },
  {
   "cell_type": "markdown",
   "id": "5bb52892",
   "metadata": {},
   "source": [
    "Effettuiamo il parsing ed il calcolo dell'equazione associata all'espressione data grazie alla libreria Sympy"
   ]
  },
  {
   "cell_type": "code",
   "execution_count": 64,
   "id": "177fbefa",
   "metadata": {},
   "outputs": [
    {
     "name": "stdout",
     "output_type": "stream",
     "text": [
      "Imposto, a partire dall'espressione data una equazione = 0:\n",
      "37-42-6*y+(3+7)*cos(4) = 0\n",
      "\n",
      "Effettuo il parsing dell'equazione:\n",
      "-6.0*y - 11.5364362086361\n",
      "\n",
      "Stampo la soluzione dell'equazione:\n",
      "-1.92273936810602\n"
     ]
    }
   ],
   "source": [
    "print(\"Imposto, a partire dall'espressione data una equazione = 0:\")\n",
    "\n",
    "print(str(expression) + \" = 0\")\n",
    "print()\n",
    "\n",
    "print(\"Effettuo il parsing dell'equazione:\")\n",
    "\n",
    "if \"[\" in expression or \"]\" in expression:\n",
    "    equation = expression.replace(\"[\", \"(\" )\n",
    "    equation = expression.replace(\"]\", \")\" )\n",
    "\n",
    "x = symbols('y')\n",
    "eparsing = sympify(str(expression))\n",
    "eparsing = eparsing.evalf()\n",
    "print(eparsing)\n",
    "print()\n",
    "\n",
    "soluzione = solve(eparsing)\n",
    "\n",
    "print(\"Stampo la soluzione dell'equazione:\")\n",
    "print(soluzione[0])"
   ]
  }
 ],
 "metadata": {
  "kernelspec": {
   "display_name": "Python 3.10.7 64-bit",
   "language": "python",
   "name": "python3"
  },
  "language_info": {
   "codemirror_mode": {
    "name": "ipython",
    "version": 3
   },
   "file_extension": ".py",
   "mimetype": "text/x-python",
   "name": "python",
   "nbconvert_exporter": "python",
   "pygments_lexer": "ipython3",
   "version": "3.10.7"
  },
  "papermill": {
   "default_parameters": {},
   "duration": 290.447526,
   "end_time": "2022-06-14T16:13:45.032873",
   "environment_variables": {},
   "exception": null,
   "input_path": "__notebook__.ipynb",
   "output_path": "__notebook__.ipynb",
   "parameters": {},
   "start_time": "2022-06-14T16:08:54.585347",
   "version": "2.3.4"
  },
  "vscode": {
   "interpreter": {
    "hash": "f3829f2c1eece7dd9fdaa5b0dbec02962a23d51361b4e4655008413bd4e44011"
   }
  }
 },
 "nbformat": 4,
 "nbformat_minor": 5
}
