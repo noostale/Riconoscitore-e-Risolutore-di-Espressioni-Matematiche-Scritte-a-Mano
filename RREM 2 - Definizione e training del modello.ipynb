{
 "cells": [
  {
   "attachments": {},
   "cell_type": "markdown",
   "id": "2e405ef6",
   "metadata": {
    "papermill": {
     "duration": 0.008404,
     "end_time": "2022-06-14T16:09:02.336781",
     "exception": false,
     "start_time": "2022-06-14T16:09:02.328377",
     "status": "completed"
    },
    "tags": []
   },
   "source": [
    "# Riconoscitore e risolutore di espressioni matematiche scritte a mano 2/3"
   ]
  },
  {
   "cell_type": "markdown",
   "id": "b9ec2cb6",
   "metadata": {},
   "source": [
    "![Logo Sapienza](logo.png \"Logo Sapienza\")\n",
    "\n",
    "Frasca Emanuele - 1836098"
   ]
  },
  {
   "cell_type": "markdown",
   "id": "9796156c",
   "metadata": {
    "papermill": {
     "duration": 0.008939,
     "end_time": "2022-06-14T16:09:02.355225",
     "exception": false,
     "start_time": "2022-06-14T16:09:02.346286",
     "status": "completed"
    },
    "tags": []
   },
   "source": [
    "# Caricamento delle librerie"
   ]
  },
  {
   "cell_type": "markdown",
   "id": "7f0243fd",
   "metadata": {},
   "source": [
    "Carichiamo le librerie che utilizzeremo nel progetto tra cui Numpy, Pandas, Matplotlib, OpenCV2, Sympy e Tensorflow."
   ]
  },
  {
   "cell_type": "code",
   "execution_count": 1,
   "id": "8298a04c",
   "metadata": {
    "execution": {
     "iopub.execute_input": "2022-06-14T16:09:02.375875Z",
     "iopub.status.busy": "2022-06-14T16:09:02.375359Z",
     "iopub.status.idle": "2022-06-14T16:09:07.920733Z",
     "shell.execute_reply": "2022-06-14T16:09:07.919085Z"
    },
    "papermill": {
     "duration": 5.559084,
     "end_time": "2022-06-14T16:09:07.923704",
     "exception": false,
     "start_time": "2022-06-14T16:09:02.364620",
     "status": "completed"
    },
    "tags": []
   },
   "outputs": [
    {
     "name": "stdout",
     "output_type": "stream",
     "text": [
      "Sto per caricare le librerie necessarie...\n",
      "Sto per caricare Numpy, Pandas e Matplotlib...\n",
      "Sto per caricare os...\n",
      "Sto per caricare PIL e OpenCV...\n",
      "Sto per caricare Tensorflow e Keras...\n",
      "Fatto\n"
     ]
    }
   ],
   "source": [
    "print(\"Sto per caricare le librerie necessarie...\")\n",
    "\n",
    "print(\"Sto per caricare Numpy, Pandas e Matplotlib...\")\n",
    "import numpy as np\n",
    "import pandas as pd\n",
    "from matplotlib import pyplot as plt\n",
    "import matplotlib.image as mpimg\n",
    "%matplotlib inline\n",
    "\n",
    "print(\"Sto per caricare os...\")\n",
    "import os\n",
    "from os import listdir\n",
    "from os.path import isfile, join\n",
    "\n",
    "\n",
    "print(\"Sto per caricare PIL e OpenCV...\")\n",
    "import cv2\n",
    "from PIL import Image\n",
    "\n",
    "\n",
    "print(\"Sto per caricare Tensorflow e Keras...\")\n",
    "import tensorflow\n",
    "from tensorflow import keras\n",
    "from keras import optimizers\n",
    "from keras import backend as K\n",
    "from keras.models import Model, Sequential, load_model\n",
    "from keras.layers import *\n",
    "from keras.layers import Input, Dense, Dropout, Flatten\n",
    "from keras.utils import np_utils\n",
    "from keras.layers.convolutional import Conv2D, MaxPooling2D\n",
    "from keras.utils.np_utils import to_categorical\n",
    "from keras.utils.vis_utils import plot_model\n",
    "K.image_data_format()\n",
    "\n",
    "from sklearn.model_selection import GridSearchCV\n",
    "import numpy as np\n",
    "from keras.wrappers.scikit_learn import KerasClassifier\n",
    "\n",
    "from sklearn.model_selection import GridSearchCV, KFold\n",
    "\n",
    "print(\"Fatto\")"
   ]
  },
  {
   "attachments": {},
   "cell_type": "markdown",
   "metadata": {},
   "source": [
    "# Funzione alternativa"
   ]
  },
  {
   "cell_type": "code",
   "execution_count": 2,
   "metadata": {},
   "outputs": [],
   "source": [
    "def load_dataset(file):\n",
    "    \n",
    "    # Utilizziamo Pandas per caricare un file csv da disco\n",
    "    dataframe = pd.read_csv(file, index_col = False)\n",
    "    # Inseriamo le etichette in una variabile \"labels\"\n",
    "    labels = dataframe[['1024']]\n",
    "    # Eliminiamo dalla tabella originale la colonna contenente le etichette\n",
    "    dataframe.drop(dataframe.columns[[1024]], axis = 1, inplace = True)\n",
    "    \n",
    "    # Traforiamo le'array di etichette in un np_array\n",
    "    labels = np.array(labels)\n",
    "    # Utilizziamo una one-hot encoding per codificarle\n",
    "    Y = to_categorical(labels, num_classes = 24)\n",
    "\n",
    "    # Trasformo il dataframe in un array di Numpy\n",
    "    dataframe_numpy = dataframe.to_numpy()\n",
    "    # Effettuo un reshape per riportare in forma matrciale le immagini\n",
    "    X = dataframe_numpy.reshape(dataframe_numpy.shape[0], 32, 32, 1)\n",
    "    \n",
    "    return X, Y"
   ]
  },
  {
   "cell_type": "code",
   "execution_count": 3,
   "metadata": {},
   "outputs": [],
   "source": [
    "X_train, Y_train = load_dataset(\"train.csv\")\n",
    "X_test, Y_test = load_dataset(\"test.csv\")"
   ]
  },
  {
   "cell_type": "code",
   "execution_count": 62,
   "metadata": {},
   "outputs": [
    {
     "data": {
      "image/png": "[encoded data removed]",
      "text/plain": [
       "<Figure size 640x480 with 1 Axes>"
      ]
     },
     "metadata": {},
     "output_type": "display_data"
    },
    {
     "name": "stdout",
     "output_type": "stream",
     "text": [
      "[1. 0. 0. 0. 0. 0. 0. 0. 0. 0. 0. 0. 0. 0. 0. 0. 0. 0. 0. 0. 0. 0. 0. 0.]\n"
     ]
    }
   ],
   "source": [
    "#pos 456 simbolo !\n",
    "imgplot = plt.imshow(X_train[4563])\n",
    "\n",
    "\n",
    "\n",
    "plt.show()\n",
    "print(Y_train[456])"
   ]
  },
  {
   "cell_type": "markdown",
   "id": "c26ae6c0",
   "metadata": {
    "papermill": {
     "duration": 0.006887,
     "end_time": "2022-06-14T16:10:05.961460",
     "exception": false,
     "start_time": "2022-06-14T16:10:05.954573",
     "status": "completed"
    },
    "tags": []
   },
   "source": [
    "# Caricamento set di training"
   ]
  },
  {
   "cell_type": "markdown",
   "id": "6b0a57dd",
   "metadata": {},
   "source": [
    "Trasformo l'array di training in un dataframe di Pandas, poi estraggo le label contenute nell'ultima colonna."
   ]
  },
  {
   "cell_type": "code",
   "execution_count": 7,
   "id": "69c6aadc",
   "metadata": {
    "execution": {
     "iopub.execute_input": "2022-06-14T16:10:05.976920Z",
     "iopub.status.busy": "2022-06-14T16:10:05.976257Z",
     "iopub.status.idle": "2022-06-14T16:10:08.717539Z",
     "shell.execute_reply": "2022-06-14T16:10:08.716800Z"
    },
    "papermill": {
     "duration": 2.751058,
     "end_time": "2022-06-14T16:10:08.719487",
     "exception": false,
     "start_time": "2022-06-14T16:10:05.968429",
     "status": "completed"
    },
    "tags": []
   },
   "outputs": [
    {
     "data": {
      "text/html": [
       "<div>\n",
       "<style scoped>\n",
       "    .dataframe tbody tr th:only-of-type {\n",
       "        vertical-align: middle;\n",
       "    }\n",
       "\n",
       "    .dataframe tbody tr th {\n",
       "        vertical-align: top;\n",
       "    }\n",
       "\n",
       "    .dataframe thead th {\n",
       "        text-align: right;\n",
       "    }\n",
       "</style>\n",
       "<table border=\"1\" class=\"dataframe\">\n",
       "  <thead>\n",
       "    <tr style=\"text-align: right;\">\n",
       "      <th></th>\n",
       "      <th>0</th>\n",
       "      <th>1</th>\n",
       "      <th>2</th>\n",
       "      <th>3</th>\n",
       "      <th>4</th>\n",
       "      <th>5</th>\n",
       "      <th>6</th>\n",
       "      <th>7</th>\n",
       "      <th>8</th>\n",
       "      <th>9</th>\n",
       "      <th>...</th>\n",
       "      <th>774</th>\n",
       "      <th>775</th>\n",
       "      <th>776</th>\n",
       "      <th>777</th>\n",
       "      <th>778</th>\n",
       "      <th>779</th>\n",
       "      <th>780</th>\n",
       "      <th>781</th>\n",
       "      <th>782</th>\n",
       "      <th>783</th>\n",
       "    </tr>\n",
       "  </thead>\n",
       "  <tbody>\n",
       "    <tr>\n",
       "      <th>0</th>\n",
       "      <td>0</td>\n",
       "      <td>0</td>\n",
       "      <td>0</td>\n",
       "      <td>0</td>\n",
       "      <td>0</td>\n",
       "      <td>0</td>\n",
       "      <td>0</td>\n",
       "      <td>0</td>\n",
       "      <td>0</td>\n",
       "      <td>0</td>\n",
       "      <td>...</td>\n",
       "      <td>0</td>\n",
       "      <td>0</td>\n",
       "      <td>0</td>\n",
       "      <td>0</td>\n",
       "      <td>0</td>\n",
       "      <td>0</td>\n",
       "      <td>0</td>\n",
       "      <td>0</td>\n",
       "      <td>0</td>\n",
       "      <td>0</td>\n",
       "    </tr>\n",
       "    <tr>\n",
       "      <th>1</th>\n",
       "      <td>0</td>\n",
       "      <td>0</td>\n",
       "      <td>0</td>\n",
       "      <td>0</td>\n",
       "      <td>0</td>\n",
       "      <td>0</td>\n",
       "      <td>0</td>\n",
       "      <td>0</td>\n",
       "      <td>0</td>\n",
       "      <td>0</td>\n",
       "      <td>...</td>\n",
       "      <td>0</td>\n",
       "      <td>0</td>\n",
       "      <td>0</td>\n",
       "      <td>0</td>\n",
       "      <td>0</td>\n",
       "      <td>0</td>\n",
       "      <td>0</td>\n",
       "      <td>0</td>\n",
       "      <td>0</td>\n",
       "      <td>0</td>\n",
       "    </tr>\n",
       "    <tr>\n",
       "      <th>2</th>\n",
       "      <td>0</td>\n",
       "      <td>0</td>\n",
       "      <td>0</td>\n",
       "      <td>0</td>\n",
       "      <td>0</td>\n",
       "      <td>0</td>\n",
       "      <td>0</td>\n",
       "      <td>0</td>\n",
       "      <td>0</td>\n",
       "      <td>0</td>\n",
       "      <td>...</td>\n",
       "      <td>0</td>\n",
       "      <td>0</td>\n",
       "      <td>0</td>\n",
       "      <td>0</td>\n",
       "      <td>0</td>\n",
       "      <td>0</td>\n",
       "      <td>0</td>\n",
       "      <td>0</td>\n",
       "      <td>0</td>\n",
       "      <td>0</td>\n",
       "    </tr>\n",
       "    <tr>\n",
       "      <th>3</th>\n",
       "      <td>0</td>\n",
       "      <td>0</td>\n",
       "      <td>0</td>\n",
       "      <td>0</td>\n",
       "      <td>0</td>\n",
       "      <td>0</td>\n",
       "      <td>0</td>\n",
       "      <td>0</td>\n",
       "      <td>0</td>\n",
       "      <td>0</td>\n",
       "      <td>...</td>\n",
       "      <td>0</td>\n",
       "      <td>0</td>\n",
       "      <td>0</td>\n",
       "      <td>0</td>\n",
       "      <td>0</td>\n",
       "      <td>0</td>\n",
       "      <td>0</td>\n",
       "      <td>0</td>\n",
       "      <td>0</td>\n",
       "      <td>0</td>\n",
       "    </tr>\n",
       "    <tr>\n",
       "      <th>4</th>\n",
       "      <td>0</td>\n",
       "      <td>0</td>\n",
       "      <td>0</td>\n",
       "      <td>0</td>\n",
       "      <td>0</td>\n",
       "      <td>0</td>\n",
       "      <td>0</td>\n",
       "      <td>0</td>\n",
       "      <td>0</td>\n",
       "      <td>0</td>\n",
       "      <td>...</td>\n",
       "      <td>0</td>\n",
       "      <td>0</td>\n",
       "      <td>0</td>\n",
       "      <td>0</td>\n",
       "      <td>0</td>\n",
       "      <td>0</td>\n",
       "      <td>0</td>\n",
       "      <td>0</td>\n",
       "      <td>0</td>\n",
       "      <td>0</td>\n",
       "    </tr>\n",
       "  </tbody>\n",
       "</table>\n",
       "<p>5 rows × 784 columns</p>\n",
       "</div>"
      ],
      "text/plain": [
       "   0  1  2  3  4  5  6  7  8  9  ...  774  775  776  777  778  779  780  781  \\\n",
       "0  0  0  0  0  0  0  0  0  0  0  ...    0    0    0    0    0    0    0    0   \n",
       "1  0  0  0  0  0  0  0  0  0  0  ...    0    0    0    0    0    0    0    0   \n",
       "2  0  0  0  0  0  0  0  0  0  0  ...    0    0    0    0    0    0    0    0   \n",
       "3  0  0  0  0  0  0  0  0  0  0  ...    0    0    0    0    0    0    0    0   \n",
       "4  0  0  0  0  0  0  0  0  0  0  ...    0    0    0    0    0    0    0    0   \n",
       "\n",
       "   782  783  \n",
       "0    0    0  \n",
       "1    0    0  \n",
       "2    0    0  \n",
       "3    0    0  \n",
       "4    0    0  \n",
       "\n",
       "[5 rows x 784 columns]"
      ]
     },
     "execution_count": 7,
     "metadata": {},
     "output_type": "execute_result"
    }
   ],
   "source": [
    "# Carico il training-set dal file csv precedentemente\n",
    "train_dataframe = pd.read_csv('train.csv',index_col=False)\n",
    "train_labels = train_dataframe[['784']]\n",
    "\n",
    "train_dataframe.drop(train_dataframe.columns[[784]],axis=1,inplace=True)\n",
    "train_dataframe.head()"
   ]
  },
  {
   "attachments": {},
   "cell_type": "markdown",
   "id": "14c34b5d",
   "metadata": {},
   "source": [
    "Utilizzo una one-hot encoding per le label per poter essere successivamente comprese dal modello."
   ]
  },
  {
   "cell_type": "code",
   "execution_count": 9,
   "id": "74fb86fd",
   "metadata": {
    "execution": {
     "iopub.execute_input": "2022-06-14T16:10:08.735498Z",
     "iopub.status.busy": "2022-06-14T16:10:08.735228Z",
     "iopub.status.idle": "2022-06-14T16:10:08.742302Z",
     "shell.execute_reply": "2022-06-14T16:10:08.741466Z"
    },
    "papermill": {
     "duration": 0.016821,
     "end_time": "2022-06-14T16:10:08.743928",
     "exception": false,
     "start_time": "2022-06-14T16:10:08.727107",
     "status": "completed"
    },
    "tags": []
   },
   "outputs": [
    {
     "name": "stdout",
     "output_type": "stream",
     "text": [
      "Stampo una etichetta\n",
      "[0. 0. 0. 0. 0. 0. 0. 0. 0. 0. 0. 0. 0. 0. 0. 0. 0. 0. 0. 0. 1. 0. 0. 0.\n",
      " 0.]\n"
     ]
    }
   ],
   "source": [
    "#np.random.seed(1212)\n",
    "train_labels = np.array(train_labels)\n",
    "Y_train = to_categorical(train_labels, num_classes=25)\n",
    "print(\"Stampo una etichetta\")\n",
    "print(Y_train[0])"
   ]
  },
  {
   "attachments": {},
   "cell_type": "markdown",
   "id": "a52bcd9b",
   "metadata": {},
   "source": [
    "Riporto il dataframe in forma matriciale di numpy."
   ]
  },
  {
   "cell_type": "code",
   "execution_count": 10,
   "id": "b279f66c",
   "metadata": {
    "execution": {
     "iopub.execute_input": "2022-06-14T16:10:08.759534Z",
     "iopub.status.busy": "2022-06-14T16:10:08.759248Z",
     "iopub.status.idle": "2022-06-14T16:10:08.764973Z",
     "shell.execute_reply": "2022-06-14T16:10:08.764294Z"
    },
    "papermill": {
     "duration": 0.015259,
     "end_time": "2022-06-14T16:10:08.766540",
     "exception": false,
     "start_time": "2022-06-14T16:10:08.751281",
     "status": "completed"
    },
    "tags": []
   },
   "outputs": [
    {
     "data": {
      "text/plain": [
       "(7200, 28, 28, 1)"
      ]
     },
     "execution_count": 10,
     "metadata": {},
     "output_type": "execute_result"
    }
   ],
   "source": [
    "train_numpy = train_dataframe.to_numpy()\n",
    "X_train = train_numpy.reshape(train_numpy.shape[0], 28, 28, 1)\n",
    "X_train.shape"
   ]
  },
  {
   "cell_type": "markdown",
   "id": "1197163d",
   "metadata": {},
   "source": [
    "# Caricamento set di test"
   ]
  },
  {
   "cell_type": "markdown",
   "id": "f7ccc24e",
   "metadata": {},
   "source": [
    "Trasformo l'array di test un un dataframe di Pandas, poi estraggo le label contenute nell'ultima colonna."
   ]
  },
  {
   "cell_type": "code",
   "execution_count": 11,
   "id": "f5627888",
   "metadata": {
    "execution": {
     "iopub.execute_input": "2022-06-14T16:10:05.976920Z",
     "iopub.status.busy": "2022-06-14T16:10:05.976257Z",
     "iopub.status.idle": "2022-06-14T16:10:08.717539Z",
     "shell.execute_reply": "2022-06-14T16:10:08.716800Z"
    },
    "papermill": {
     "duration": 2.751058,
     "end_time": "2022-06-14T16:10:08.719487",
     "exception": false,
     "start_time": "2022-06-14T16:10:05.968429",
     "status": "completed"
    },
    "tags": []
   },
   "outputs": [
    {
     "data": {
      "text/html": [
       "<div>\n",
       "<style scoped>\n",
       "    .dataframe tbody tr th:only-of-type {\n",
       "        vertical-align: middle;\n",
       "    }\n",
       "\n",
       "    .dataframe tbody tr th {\n",
       "        vertical-align: top;\n",
       "    }\n",
       "\n",
       "    .dataframe thead th {\n",
       "        text-align: right;\n",
       "    }\n",
       "</style>\n",
       "<table border=\"1\" class=\"dataframe\">\n",
       "  <thead>\n",
       "    <tr style=\"text-align: right;\">\n",
       "      <th></th>\n",
       "      <th>0</th>\n",
       "      <th>1</th>\n",
       "      <th>2</th>\n",
       "      <th>3</th>\n",
       "      <th>4</th>\n",
       "      <th>5</th>\n",
       "      <th>6</th>\n",
       "      <th>7</th>\n",
       "      <th>8</th>\n",
       "      <th>9</th>\n",
       "      <th>...</th>\n",
       "      <th>774</th>\n",
       "      <th>775</th>\n",
       "      <th>776</th>\n",
       "      <th>777</th>\n",
       "      <th>778</th>\n",
       "      <th>779</th>\n",
       "      <th>780</th>\n",
       "      <th>781</th>\n",
       "      <th>782</th>\n",
       "      <th>783</th>\n",
       "    </tr>\n",
       "  </thead>\n",
       "  <tbody>\n",
       "    <tr>\n",
       "      <th>0</th>\n",
       "      <td>0</td>\n",
       "      <td>0</td>\n",
       "      <td>0</td>\n",
       "      <td>0</td>\n",
       "      <td>0</td>\n",
       "      <td>0</td>\n",
       "      <td>0</td>\n",
       "      <td>0</td>\n",
       "      <td>0</td>\n",
       "      <td>0</td>\n",
       "      <td>...</td>\n",
       "      <td>0</td>\n",
       "      <td>0</td>\n",
       "      <td>0</td>\n",
       "      <td>0</td>\n",
       "      <td>0</td>\n",
       "      <td>0</td>\n",
       "      <td>0</td>\n",
       "      <td>0</td>\n",
       "      <td>0</td>\n",
       "      <td>0</td>\n",
       "    </tr>\n",
       "    <tr>\n",
       "      <th>1</th>\n",
       "      <td>0</td>\n",
       "      <td>0</td>\n",
       "      <td>0</td>\n",
       "      <td>0</td>\n",
       "      <td>0</td>\n",
       "      <td>0</td>\n",
       "      <td>0</td>\n",
       "      <td>0</td>\n",
       "      <td>0</td>\n",
       "      <td>0</td>\n",
       "      <td>...</td>\n",
       "      <td>0</td>\n",
       "      <td>0</td>\n",
       "      <td>0</td>\n",
       "      <td>0</td>\n",
       "      <td>0</td>\n",
       "      <td>0</td>\n",
       "      <td>0</td>\n",
       "      <td>0</td>\n",
       "      <td>0</td>\n",
       "      <td>0</td>\n",
       "    </tr>\n",
       "    <tr>\n",
       "      <th>2</th>\n",
       "      <td>0</td>\n",
       "      <td>0</td>\n",
       "      <td>0</td>\n",
       "      <td>0</td>\n",
       "      <td>0</td>\n",
       "      <td>0</td>\n",
       "      <td>0</td>\n",
       "      <td>0</td>\n",
       "      <td>0</td>\n",
       "      <td>0</td>\n",
       "      <td>...</td>\n",
       "      <td>0</td>\n",
       "      <td>0</td>\n",
       "      <td>0</td>\n",
       "      <td>0</td>\n",
       "      <td>0</td>\n",
       "      <td>0</td>\n",
       "      <td>0</td>\n",
       "      <td>0</td>\n",
       "      <td>0</td>\n",
       "      <td>0</td>\n",
       "    </tr>\n",
       "    <tr>\n",
       "      <th>3</th>\n",
       "      <td>0</td>\n",
       "      <td>0</td>\n",
       "      <td>0</td>\n",
       "      <td>0</td>\n",
       "      <td>0</td>\n",
       "      <td>0</td>\n",
       "      <td>0</td>\n",
       "      <td>0</td>\n",
       "      <td>0</td>\n",
       "      <td>0</td>\n",
       "      <td>...</td>\n",
       "      <td>0</td>\n",
       "      <td>0</td>\n",
       "      <td>0</td>\n",
       "      <td>0</td>\n",
       "      <td>0</td>\n",
       "      <td>0</td>\n",
       "      <td>0</td>\n",
       "      <td>0</td>\n",
       "      <td>0</td>\n",
       "      <td>0</td>\n",
       "    </tr>\n",
       "    <tr>\n",
       "      <th>4</th>\n",
       "      <td>0</td>\n",
       "      <td>0</td>\n",
       "      <td>0</td>\n",
       "      <td>0</td>\n",
       "      <td>0</td>\n",
       "      <td>0</td>\n",
       "      <td>0</td>\n",
       "      <td>0</td>\n",
       "      <td>0</td>\n",
       "      <td>0</td>\n",
       "      <td>...</td>\n",
       "      <td>0</td>\n",
       "      <td>0</td>\n",
       "      <td>0</td>\n",
       "      <td>0</td>\n",
       "      <td>0</td>\n",
       "      <td>0</td>\n",
       "      <td>0</td>\n",
       "      <td>0</td>\n",
       "      <td>0</td>\n",
       "      <td>0</td>\n",
       "    </tr>\n",
       "  </tbody>\n",
       "</table>\n",
       "<p>5 rows × 784 columns</p>\n",
       "</div>"
      ],
      "text/plain": [
       "   0  1  2  3  4  5  6  7  8  9  ...  774  775  776  777  778  779  780  781  \\\n",
       "0  0  0  0  0  0  0  0  0  0  0  ...    0    0    0    0    0    0    0    0   \n",
       "1  0  0  0  0  0  0  0  0  0  0  ...    0    0    0    0    0    0    0    0   \n",
       "2  0  0  0  0  0  0  0  0  0  0  ...    0    0    0    0    0    0    0    0   \n",
       "3  0  0  0  0  0  0  0  0  0  0  ...    0    0    0    0    0    0    0    0   \n",
       "4  0  0  0  0  0  0  0  0  0  0  ...    0    0    0    0    0    0    0    0   \n",
       "\n",
       "   782  783  \n",
       "0    0    0  \n",
       "1    0    0  \n",
       "2    0    0  \n",
       "3    0    0  \n",
       "4    0    0  \n",
       "\n",
       "[5 rows x 784 columns]"
      ]
     },
     "execution_count": 11,
     "metadata": {},
     "output_type": "execute_result"
    }
   ],
   "source": [
    "test_dataframe = pd.read_csv('test.csv', index_col=False)\n",
    "test_labels = test_dataframe[['784']]\n",
    "\n",
    "test_dataframe.drop(test_dataframe.columns[[784]], axis=1, inplace=True)\n",
    "test_dataframe.head()"
   ]
  },
  {
   "cell_type": "markdown",
   "id": "6d08132d",
   "metadata": {},
   "source": [
    "Categorizzo le label per poter essere successivamente comprese dal modello."
   ]
  },
  {
   "cell_type": "code",
   "execution_count": 12,
   "id": "f74cd07d",
   "metadata": {
    "execution": {
     "iopub.execute_input": "2022-06-14T16:10:08.735498Z",
     "iopub.status.busy": "2022-06-14T16:10:08.735228Z",
     "iopub.status.idle": "2022-06-14T16:10:08.742302Z",
     "shell.execute_reply": "2022-06-14T16:10:08.741466Z"
    },
    "papermill": {
     "duration": 0.016821,
     "end_time": "2022-06-14T16:10:08.743928",
     "exception": false,
     "start_time": "2022-06-14T16:10:08.727107",
     "status": "completed"
    },
    "tags": []
   },
   "outputs": [],
   "source": [
    "#np.random.seed(1212)\n",
    "test_labels = np.array(test_labels)\n",
    "Y_test = to_categorical(test_labels, num_classes=25)\n"
   ]
  },
  {
   "cell_type": "markdown",
   "id": "c16c80dd",
   "metadata": {},
   "source": [
    "Riporto il dataframe in forma matriciale di numpy e ne effettuo un reshape."
   ]
  },
  {
   "cell_type": "code",
   "execution_count": 14,
   "id": "7a6b36f6",
   "metadata": {
    "execution": {
     "iopub.execute_input": "2022-06-14T16:10:08.759534Z",
     "iopub.status.busy": "2022-06-14T16:10:08.759248Z",
     "iopub.status.idle": "2022-06-14T16:10:08.764973Z",
     "shell.execute_reply": "2022-06-14T16:10:08.764294Z"
    },
    "papermill": {
     "duration": 0.015259,
     "end_time": "2022-06-14T16:10:08.766540",
     "exception": false,
     "start_time": "2022-06-14T16:10:08.751281",
     "status": "completed"
    },
    "tags": []
   },
   "outputs": [
    {
     "data": {
      "image/png": "[encoded data removed]",
      "text/plain": [
       "<Figure size 640x480 with 1 Axes>"
      ]
     },
     "metadata": {},
     "output_type": "display_data"
    },
    {
     "name": "stdout",
     "output_type": "stream",
     "text": [
      "[0. 0. 0. 0. 0. 0. 0. 0. 0. 0. 0. 0. 0. 0. 0. 0. 0. 0. 1. 0. 0. 0. 0. 0.\n",
      " 0.]\n"
     ]
    }
   ],
   "source": [
    "test_numpy = test_dataframe.to_numpy()\n",
    "X_test = test_numpy.reshape(test_numpy.shape[0], 28, 28, 1)\n",
    "X_test.shape\n",
    "\n",
    "imgplot = plt.imshow(X_test[456])\n",
    "plt.show()\n",
    "print(Y_test[345])"
   ]
  },
  {
   "cell_type": "markdown",
   "id": "e36ddd04",
   "metadata": {
    "papermill": {
     "duration": 0.007252,
     "end_time": "2022-06-14T16:10:09.212064",
     "exception": false,
     "start_time": "2022-06-14T16:10:09.204812",
     "status": "completed"
    },
    "tags": []
   },
   "source": [
    "# Definizione e training del modello"
   ]
  },
  {
   "cell_type": "markdown",
   "id": "9303a49d",
   "metadata": {},
   "source": [
    "Definisco il modello sequenziale che successivamente alleneremo, poi ne stampo un sommario."
   ]
  },
  {
   "cell_type": "code",
   "execution_count": 4,
   "metadata": {},
   "outputs": [],
   "source": [
    "def make_model(n_neurons=128, epoch=10):\n",
    "    model = Sequential(name=\"Modello\")\n",
    "    model.add(Conv2D(32, (3,3), input_shape=(32, 32, 1), activation='relu', padding='same'))\n",
    "    model.add(MaxPooling2D(pool_size=(2, 2)))\n",
    "    model.add(Conv2D(15, (3, 3), activation='relu'))\n",
    "    model.add(MaxPooling2D(pool_size=(2, 2)))\n",
    "    model.add(Flatten())\n",
    "    model.add(Dense(n_neurons, activation='relu'))\n",
    "    model.add(Dense(24, activation='softmax'))\n",
    "\n",
    "    model.compile(\n",
    "        loss='categorical_crossentropy', \n",
    "        optimizer='adam', \n",
    "        metrics=['accuracy']\n",
    "    )\n",
    "\n",
    "    return model"
   ]
  },
  {
   "cell_type": "code",
   "execution_count": 39,
   "metadata": {},
   "outputs": [],
   "source": [
    "def make_model2(n_neurons=128, dropout_rate=0.2, l2_reg=0.001):\n",
    "    model = Sequential(name=\"Modello\")\n",
    "    model.add(Conv2D(32, (3,3), input_shape=(32, 32, 1), activation='relu', padding='same'))\n",
    "    model.add(BatchNormalization())\n",
    "    model.add(Conv2D(32, (3,3), activation='relu'))\n",
    "    model.add(BatchNormalization())\n",
    "    model.add(MaxPooling2D(pool_size=(2, 2)))\n",
    "    model.add(Dropout(dropout_rate))\n",
    "\n",
    "    model.add(Conv2D(64, (3,3), activation='relu', padding='same'))\n",
    "    model.add(BatchNormalization())\n",
    "    model.add(Conv2D(64, (3,3), activation='relu'))\n",
    "    model.add(BatchNormalization())\n",
    "    model.add(MaxPooling2D(pool_size=(2, 2)))\n",
    "    model.add(Dropout(dropout_rate))\n",
    "\n",
    "    model.add(Flatten())\n",
    "    model.add(Dense(n_neurons, activation='relu', kernel_regularizer=l2(l2_reg)))\n",
    "    model.add(Dropout(dropout_rate))\n",
    "    model.add(Dense(24, activation='softmax'))\n",
    "\n",
    "    model.compile(\n",
    "        loss='categorical_crossentropy', \n",
    "        optimizer='adam', \n",
    "        metrics=['accuracy']\n",
    "    )\n",
    "\n",
    "    return model\n"
   ]
  },
  {
   "cell_type": "code",
   "execution_count": 5,
   "metadata": {},
   "outputs": [
    {
     "name": "stdout",
     "output_type": "stream",
     "text": [
      "Collecting keras-applicationsNote: you may need to restart the kernel to use updated packages.\n",
      "\n",
      "  Using cached Keras_Applications-1.0.8-py3-none-any.whl (50 kB)\n",
      "Requirement already satisfied: numpy>=1.9.1 in c:\\users\\emanuele\\appdata\\local\\programs\\python\\python311\\lib\\site-packages (from keras-applications) (1.23.5)\n",
      "Requirement already satisfied: h5py in c:\\users\\emanuele\\appdata\\local\\programs\\python\\python311\\lib\\site-packages (from keras-applications) (3.8.0)\n",
      "Installing collected packages: keras-applications\n",
      "Successfully installed keras-applications-1.0.8\n"
     ]
    }
   ],
   "source": [
    "%pip install keras-applications\n"
   ]
  },
  {
   "cell_type": "code",
   "execution_count": 15,
   "metadata": {},
   "outputs": [],
   "source": [
    "from tensorflow.keras.applications.resnet50 import ResNet50\n",
    "from keras.layers import Dense, GlobalAveragePooling2D\n",
    "from keras.models import Model\n",
    "\n",
    "def make_model_res(n_neurons=128, epoch=10):\n",
    "    base_model = ResNet50(include_top=False, input_shape=(28, 28, 1))\n",
    "\n",
    "    # Aggiungi un layer di GlobalAveragePooling per ridurre il numero di parametri e migliorare la generalizzazione\n",
    "    x = base_model.output\n",
    "    x = GlobalAveragePooling2D()(x)\n",
    "\n",
    "    # Aggiungi uno o più layer densi per adattare il modello ai propri dati di training\n",
    "    x = Dense(n_neurons, activation='relu')(x)\n",
    "    predictions = Dense(25, activation='softmax')(x)\n",
    "\n",
    "    # Unisci il modello base con il nuovo layer di output\n",
    "    model = Model(inputs=base_model.input, outputs=predictions)\n",
    "\n",
    "    # Congela i pesi del modello base per evitare che vengano modificati durante il training del nuovo layer di output\n",
    "    for layer in base_model.layers:\n",
    "        layer.trainable = False\n",
    "\n",
    "    model.compile(\n",
    "        loss='categorical_crossentropy', \n",
    "        optimizer='adam', \n",
    "        metrics=['accuracy']\n",
    "    )\n",
    "\n",
    "    return model\n"
   ]
  },
  {
   "cell_type": "code",
   "execution_count": 21,
   "metadata": {},
   "outputs": [],
   "source": [
    "demo_resnet_model = Sequential()\n",
    "\n",
    "pretrained_model_for_demo= tensorflow.keras.applications.ResNet50(include_top=False,\n",
    "\n",
    "                   input_shape=(32,32, 3),\n",
    "\n",
    "                   pooling='avg',classes=5,\n",
    "\n",
    "                   weights='imagenet')"
   ]
  },
  {
   "cell_type": "code",
   "execution_count": 4,
   "metadata": {},
   "outputs": [],
   "source": [
    "from tensorflow.keras.layers import Conv2D, MaxPooling2D, Dense, BatchNormalization, Activation, Concatenate, AveragePooling2D, GlobalAveragePooling2D\n",
    "from tensorflow.keras.models import Model\n",
    "\n",
    "def make_densenet(n_blocks=3, n_filters=12, reduction=0.5, classes=25):\n",
    "    def dense_block(x, blocks, n_filters):\n",
    "        for i in range(blocks):\n",
    "            x = conv_block(x, n_filters)\n",
    "        return x\n",
    "\n",
    "    def transition_block(x, reduction):\n",
    "        x = BatchNormalization()(x)\n",
    "        x = Activation('relu')(x)\n",
    "        x = Conv2D(int(x.shape[-1] * reduction), (1, 1), padding='same', use_bias=False)(x)\n",
    "        x = AveragePooling2D((2, 2), strides=(2, 2))(x)\n",
    "        return x\n",
    "\n",
    "    def conv_block(x, n_filters):\n",
    "        x1 = BatchNormalization()(x)\n",
    "        x1 = Activation('relu')(x1)\n",
    "        x1 = Conv2D(n_filters, (3, 3), padding='same', use_bias=False)(x1)\n",
    "        x = Concatenate()([x, x1])\n",
    "        return x\n",
    "\n",
    "    input_shape = (28, 28, 1)\n",
    "    inputs = Input(shape=input_shape)\n",
    "    x = Conv2D(n_filters, (3, 3), padding='same', use_bias=False)(inputs)\n",
    "\n",
    "    for i in range(n_blocks - 1):\n",
    "        x = dense_block(x, 3, n_filters)\n",
    "        x = transition_block(x, reduction)\n",
    "\n",
    "    x = dense_block(x, 3, n_filters)\n",
    "\n",
    "    x = BatchNormalization()(x)\n",
    "    x = Activation('relu')(x)\n",
    "    x = GlobalAveragePooling2D()(x)\n",
    "\n",
    "    outputs = Dense(classes, activation='softmax')(x)\n",
    "\n",
    "    model = Model(inputs=inputs, outputs=outputs, name=\"Densenet\")\n",
    "\n",
    "    model.compile(\n",
    "        loss='categorical_crossentropy',\n",
    "        optimizer='adam',\n",
    "        metrics=['accuracy']\n",
    "    )\n",
    "\n",
    "    return model\n"
   ]
  },
  {
   "cell_type": "code",
   "execution_count": 5,
   "metadata": {},
   "outputs": [
    {
     "name": "stderr",
     "output_type": "stream",
     "text": [
      "C:\\Users\\Emanuele\\AppData\\Local\\Temp\\ipykernel_11352\\2695337891.py:9: DeprecationWarning: KerasClassifier is deprecated, use Sci-Keras (https://github.com/adriangb/scikeras) instead. See https://www.adriangb.com/scikeras/stable/migration.html for help migrating.\n",
      "  model = KerasClassifier(build_fn=make_model, epochs=10, batch_size=32, verbose=5)\n"
     ]
    },
    {
     "name": "stdout",
     "output_type": "stream",
     "text": [
      "Fitting 2 folds for each of 12 candidates, totalling 24 fits\n",
      "Epoch 1/2\n",
      "Epoch 2/2\n",
      "[CV 1/2] END batch_size=32, epochs=2, n_neurons=128;, score=0.932 total time=  26.9s\n",
      "Epoch 1/2\n",
      "Epoch 2/2\n",
      "[CV 2/2] END batch_size=32, epochs=2, n_neurons=128;, score=0.935 total time=  26.3s\n",
      "Epoch 1/2\n",
      "Epoch 2/2\n",
      "[CV 1/2] END batch_size=32, epochs=2, n_neurons=256;, score=0.935 total time=  26.8s\n",
      "Epoch 1/2\n",
      "Epoch 2/2\n",
      "[CV 2/2] END batch_size=32, epochs=2, n_neurons=256;, score=0.940 total time=  27.0s\n",
      "Epoch 1/4\n",
      "Epoch 2/4\n",
      "Epoch 3/4\n",
      "Epoch 4/4\n",
      "[CV 1/2] END batch_size=32, epochs=4, n_neurons=128;, score=0.958 total time=  46.9s\n",
      "Epoch 1/4\n",
      "Epoch 2/4\n",
      "Epoch 3/4\n",
      "Epoch 4/4\n",
      "[CV 2/2] END batch_size=32, epochs=4, n_neurons=128;, score=0.954 total time=  47.4s\n",
      "Epoch 1/4\n",
      "Epoch 2/4\n",
      "Epoch 3/4\n",
      "Epoch 4/4\n",
      "[CV 1/2] END batch_size=32, epochs=4, n_neurons=256;, score=0.951 total time=  48.5s\n",
      "Epoch 1/4\n",
      "Epoch 2/4\n",
      "Epoch 3/4\n",
      "Epoch 4/4\n",
      "[CV 2/2] END batch_size=32, epochs=4, n_neurons=256;, score=0.945 total time=  49.7s\n",
      "Epoch 1/6\n",
      "Epoch 2/6\n",
      "Epoch 3/6\n",
      "Epoch 4/6\n",
      "Epoch 5/6\n",
      "Epoch 6/6\n",
      "[CV 1/2] END batch_size=32, epochs=6, n_neurons=128;, score=0.945 total time= 1.1min\n",
      "Epoch 1/6\n",
      "Epoch 2/6\n",
      "Epoch 3/6\n",
      "Epoch 4/6\n",
      "Epoch 5/6\n",
      "Epoch 6/6\n",
      "[CV 2/2] END batch_size=32, epochs=6, n_neurons=128;, score=0.950 total time= 1.1min\n",
      "Epoch 1/6\n",
      "Epoch 2/6\n",
      "Epoch 3/6\n",
      "Epoch 4/6\n",
      "Epoch 5/6\n",
      "Epoch 6/6\n",
      "[CV 1/2] END batch_size=32, epochs=6, n_neurons=256;, score=0.954 total time= 1.2min\n",
      "Epoch 1/6\n",
      "Epoch 2/6\n",
      "Epoch 3/6\n",
      "Epoch 4/6\n",
      "Epoch 5/6\n",
      "Epoch 6/6\n",
      "[CV 2/2] END batch_size=32, epochs=6, n_neurons=256;, score=0.948 total time= 1.3min\n",
      "Epoch 1/2\n",
      "Epoch 2/2\n",
      "[CV 1/2] END batch_size=64, epochs=2, n_neurons=128;, score=0.930 total time=  23.2s\n",
      "Epoch 1/2\n",
      "Epoch 2/2\n",
      "[CV 2/2] END batch_size=64, epochs=2, n_neurons=128;, score=0.927 total time=  23.1s\n",
      "Epoch 1/2\n",
      "Epoch 2/2\n",
      "[CV 1/2] END batch_size=64, epochs=2, n_neurons=256;, score=0.922 total time=  23.7s\n",
      "Epoch 1/2\n",
      "Epoch 2/2\n",
      "[CV 2/2] END batch_size=64, epochs=2, n_neurons=256;, score=0.933 total time=  23.4s\n",
      "Epoch 1/4\n",
      "Epoch 2/4\n",
      "Epoch 3/4\n",
      "Epoch 4/4\n",
      "[CV 1/2] END batch_size=64, epochs=4, n_neurons=128;, score=0.951 total time=  40.8s\n",
      "Epoch 1/4\n",
      "Epoch 2/4\n",
      "Epoch 3/4\n",
      "Epoch 4/4\n",
      "[CV 2/2] END batch_size=64, epochs=4, n_neurons=128;, score=0.950 total time=  40.7s\n",
      "Epoch 1/4\n",
      "Epoch 2/4\n",
      "Epoch 3/4\n",
      "Epoch 4/4\n",
      "[CV 1/2] END batch_size=64, epochs=4, n_neurons=256;, score=0.954 total time=  41.8s\n",
      "Epoch 1/4\n",
      "Epoch 2/4\n",
      "Epoch 3/4\n",
      "Epoch 4/4\n",
      "[CV 2/2] END batch_size=64, epochs=4, n_neurons=256;, score=0.948 total time=  41.9s\n",
      "Epoch 1/6\n",
      "Epoch 2/6\n",
      "Epoch 3/6\n",
      "Epoch 4/6\n",
      "Epoch 5/6\n",
      "Epoch 6/6\n",
      "[CV 1/2] END batch_size=64, epochs=6, n_neurons=128;, score=0.955 total time=  59.4s\n",
      "Epoch 1/6\n",
      "Epoch 2/6\n",
      "Epoch 3/6\n",
      "Epoch 4/6\n",
      "Epoch 5/6\n",
      "Epoch 6/6\n",
      "[CV 2/2] END batch_size=64, epochs=6, n_neurons=128;, score=0.952 total time=  58.8s\n",
      "Epoch 1/6\n",
      "Epoch 2/6\n",
      "Epoch 3/6\n",
      "Epoch 4/6\n",
      "Epoch 5/6\n",
      "Epoch 6/6\n",
      "[CV 1/2] END batch_size=64, epochs=6, n_neurons=256;, score=0.951 total time= 1.0min\n",
      "Epoch 1/6\n",
      "Epoch 2/6\n",
      "Epoch 3/6\n",
      "Epoch 4/6\n",
      "Epoch 5/6\n",
      "Epoch 6/6\n",
      "[CV 2/2] END batch_size=64, epochs=6, n_neurons=256;, score=0.951 total time= 1.1min\n",
      "Epoch 1/4\n",
      "Epoch 2/4\n",
      "Epoch 3/4\n",
      "Epoch 4/4\n",
      "Miglior modello: 0.955745 using {'batch_size': 32, 'epochs': 4, 'n_neurons': 128}\n"
     ]
    }
   ],
   "source": [
    "# definizione dei parametri della grid search\n",
    "param_grid = {\n",
    "    'n_neurons': [128,256],\n",
    "    'epochs': [2,4,6],\n",
    "    'batch_size':[32,64]\n",
    "}\n",
    "\n",
    "# creazione del modello da utilizzare con KerasClassifier\n",
    "model = KerasClassifier(build_fn=make_model, epochs=10, batch_size=32, verbose=5)\n",
    "\n",
    "# definizione della cross-validation con k-fold\n",
    "kfold = KFold(n_splits=2, shuffle=True, random_state=42)\n",
    "\n",
    "# esecuzione della grid search\n",
    "grid = GridSearchCV(estimator=model, param_grid=param_grid, cv=kfold, verbose=5)\n",
    "grid_result = grid.fit(X_train, Y_train)\n",
    "\n",
    "# stampa dei risultati\n",
    "print(\"Miglior modello: %f using %s\" % (grid_result.best_score_, grid_result.best_params_))"
   ]
  },
  {
   "cell_type": "code",
   "execution_count": 22,
   "metadata": {},
   "outputs": [
    {
     "name": "stderr",
     "output_type": "stream",
     "text": [
      "C:\\Users\\Emanuele\\AppData\\Local\\Temp\\ipykernel_11352\\22357956.py:9: DeprecationWarning: KerasClassifier is deprecated, use Sci-Keras (https://github.com/adriangb/scikeras) instead. See https://www.adriangb.com/scikeras/stable/migration.html for help migrating.\n",
      "  model = KerasClassifier(build_fn=make_model, epochs=10, batch_size=32, verbose=5)\n"
     ]
    },
    {
     "name": "stdout",
     "output_type": "stream",
     "text": [
      "Fitting 2 folds for each of 1 candidates, totalling 2 fits\n",
      "Epoch 1/10\n",
      "Epoch 2/10\n",
      "Epoch 3/10\n",
      "Epoch 4/10\n",
      "Epoch 5/10\n",
      "Epoch 6/10\n",
      "Epoch 7/10\n",
      "Epoch 8/10\n",
      "Epoch 9/10\n",
      "Epoch 10/10\n",
      "[CV 1/2] END batch_size=32, epochs=10, n_neurons=128;, score=0.961 total time= 2.0min\n",
      "Epoch 1/10\n",
      "Epoch 2/10\n",
      "Epoch 3/10\n",
      "Epoch 4/10\n",
      "Epoch 5/10\n",
      "Epoch 6/10\n",
      "Epoch 7/10\n",
      "Epoch 8/10\n",
      "Epoch 9/10\n",
      "Epoch 10/10\n",
      "[CV 2/2] END batch_size=32, epochs=10, n_neurons=128;, score=0.954 total time= 1.9min\n",
      "Epoch 1/10\n",
      "Epoch 2/10\n",
      "Epoch 3/10\n",
      "Epoch 4/10\n",
      "Epoch 5/10\n",
      "Epoch 6/10\n",
      "Epoch 7/10\n",
      "Epoch 8/10\n",
      "Epoch 9/10\n",
      "Epoch 10/10\n",
      "Miglior modello: 0.955745 using {'batch_size': 32, 'epochs': 4, 'n_neurons': 128}\n"
     ]
    }
   ],
   "source": [
    "# definizione dei parametri della grid search\n",
    "param_grid_2 = {\n",
    "    'n_neurons': [128],\n",
    "    'epochs': [10],\n",
    "    'batch_size':[32]\n",
    "}\n",
    "\n",
    "# creazione del modello da utilizzare con KerasClassifier\n",
    "model = KerasClassifier(build_fn=make_model, epochs=10, batch_size=32, verbose=5)\n",
    "\n",
    "# definizione della cross-validation con k-fold\n",
    "kfold = KFold(n_splits=2, shuffle=True, random_state=42)\n",
    "\n",
    "# esecuzione della grid search\n",
    "grid_2 = GridSearchCV(estimator=model, param_grid=param_grid_2, cv=kfold, verbose=5)\n",
    "grid_result_2 = grid_2.fit(X_train, Y_train)\n",
    "\n",
    "# stampa dei risultati\n",
    "print(\"Miglior modello: %f using %s\" % (grid_result.best_score_, grid_result.best_params_))"
   ]
  },
  {
   "cell_type": "code",
   "execution_count": 6,
   "metadata": {},
   "outputs": [
    {
     "name": "stdout",
     "output_type": "stream",
     "text": [
      "Miglior modello: 0.955745 using {'batch_size': 32, 'epochs': 4, 'n_neurons': 128}\n"
     ]
    }
   ],
   "source": [
    "print(\"Miglior modello: %f using %s\" % (grid_result.best_score_, grid_result.best_params_))"
   ]
  },
  {
   "cell_type": "code",
   "execution_count": 18,
   "metadata": {},
   "outputs": [
    {
     "data": {
      "image/png": "[encoded data removed]",
      "text/plain": [
       "<Figure size 1000x400 with 1 Axes>"
      ]
     },
     "metadata": {},
     "output_type": "display_data"
    }
   ],
   "source": [
    "results = grid.cv_results_\n",
    "mean_scores = np.array(results['mean_test_score'])\n",
    "params = results['params']\n",
    "    \n",
    "# Estrai i valori di ogni parametro dalla lista dei parametri\n",
    "param_values = [str(p) for p in params]\n",
    "\n",
    "plt.figure(figsize=(10,4))\n",
    "plt.gca().set_ylim([0.9, max(mean_scores)+0.01])\n",
    "\n",
    "\n",
    "# Crea il grafico a barre\n",
    "plt.bar(param_values, mean_scores)\n",
    "plt.xticks(rotation=90)\n",
    "plt.xlabel('Parametri')\n",
    "plt.ylabel('Media del punteggio')\n",
    "plt.show()"
   ]
  },
  {
   "cell_type": "code",
   "execution_count": 9,
   "metadata": {},
   "outputs": [],
   "source": [
    "import pickle\n",
    "\n",
    "with open('grid_result.pickle', 'wb') as file:\n",
    "    pickle.dump(grid_result, file)"
   ]
  },
  {
   "cell_type": "code",
   "execution_count": null,
   "metadata": {},
   "outputs": [],
   "source": [
    "with open('nome_file.pickle', 'rb') as file:\n",
    "    loaded_variable = pickle.load(file)\n",
    "\n",
    "print(loaded_variable) # Output: Hello World!"
   ]
  },
  {
   "cell_type": "code",
   "execution_count": 19,
   "metadata": {},
   "outputs": [
    {
     "name": "stdout",
     "output_type": "stream",
     "text": [
      "Model: \"Modello\"\n",
      "_________________________________________________________________\n",
      " Layer (type)                Output Shape              Param #   \n",
      "=================================================================\n",
      " conv2d_50 (Conv2D)          (None, 32, 32, 32)        320       \n",
      "                                                                 \n",
      " max_pooling2d_50 (MaxPoolin  (None, 16, 16, 32)       0         \n",
      " g2D)                                                            \n",
      "                                                                 \n",
      " conv2d_51 (Conv2D)          (None, 14, 14, 15)        4335      \n",
      "                                                                 \n",
      " max_pooling2d_51 (MaxPoolin  (None, 7, 7, 15)         0         \n",
      " g2D)                                                            \n",
      "                                                                 \n",
      " flatten_25 (Flatten)        (None, 735)               0         \n",
      "                                                                 \n",
      " dense_50 (Dense)            (None, 128)               94208     \n",
      "                                                                 \n",
      " dense_51 (Dense)            (None, 24)                3096      \n",
      "                                                                 \n",
      "=================================================================\n",
      "Total params: 101,959\n",
      "Trainable params: 101,959\n",
      "Non-trainable params: 0\n",
      "_________________________________________________________________\n"
     ]
    }
   ],
   "source": [
    "make_model(n_neurons=128, epoch=15).summary()"
   ]
  },
  {
   "cell_type": "code",
   "execution_count": 59,
   "metadata": {},
   "outputs": [
    {
     "data": {
      "image/png": "[encoded data removed]",
      "text/plain": [
       "<IPython.core.display.Image object>"
      ]
     },
     "execution_count": 59,
     "metadata": {},
     "output_type": "execute_result"
    }
   ],
   "source": [
    "plot_model(make_model(n_neurons=128, epoch=15), to_file='model_plot.png', show_shapes=True, show_layer_names=True)"
   ]
  },
  {
   "cell_type": "code",
   "execution_count": 8,
   "metadata": {},
   "outputs": [
    {
     "data": {
      "text/html": [
       "<div>\n",
       "<style scoped>\n",
       "    .dataframe tbody tr th:only-of-type {\n",
       "        vertical-align: middle;\n",
       "    }\n",
       "\n",
       "    .dataframe tbody tr th {\n",
       "        vertical-align: top;\n",
       "    }\n",
       "\n",
       "    .dataframe thead th {\n",
       "        text-align: right;\n",
       "    }\n",
       "</style>\n",
       "<table border=\"1\" class=\"dataframe\">\n",
       "  <thead>\n",
       "    <tr style=\"text-align: right;\">\n",
       "      <th></th>\n",
       "      <th>batch_size</th>\n",
       "      <th>epochs</th>\n",
       "      <th>n_neurons</th>\n",
       "      <th>Accuracy</th>\n",
       "    </tr>\n",
       "  </thead>\n",
       "  <tbody>\n",
       "    <tr>\n",
       "      <th>0</th>\n",
       "      <td>32</td>\n",
       "      <td>2</td>\n",
       "      <td>128</td>\n",
       "      <td>0.933541</td>\n",
       "    </tr>\n",
       "    <tr>\n",
       "      <th>1</th>\n",
       "      <td>32</td>\n",
       "      <td>2</td>\n",
       "      <td>256</td>\n",
       "      <td>0.937970</td>\n",
       "    </tr>\n",
       "    <tr>\n",
       "      <th>2</th>\n",
       "      <td>32</td>\n",
       "      <td>4</td>\n",
       "      <td>128</td>\n",
       "      <td>0.955745</td>\n",
       "    </tr>\n",
       "    <tr>\n",
       "      <th>3</th>\n",
       "      <td>32</td>\n",
       "      <td>4</td>\n",
       "      <td>256</td>\n",
       "      <td>0.947743</td>\n",
       "    </tr>\n",
       "    <tr>\n",
       "      <th>4</th>\n",
       "      <td>32</td>\n",
       "      <td>6</td>\n",
       "      <td>128</td>\n",
       "      <td>0.947224</td>\n",
       "    </tr>\n",
       "    <tr>\n",
       "      <th>5</th>\n",
       "      <td>32</td>\n",
       "      <td>6</td>\n",
       "      <td>256</td>\n",
       "      <td>0.950828</td>\n",
       "    </tr>\n",
       "    <tr>\n",
       "      <th>6</th>\n",
       "      <td>64</td>\n",
       "      <td>2</td>\n",
       "      <td>128</td>\n",
       "      <td>0.928288</td>\n",
       "    </tr>\n",
       "    <tr>\n",
       "      <th>7</th>\n",
       "      <td>64</td>\n",
       "      <td>2</td>\n",
       "      <td>256</td>\n",
       "      <td>0.927830</td>\n",
       "    </tr>\n",
       "    <tr>\n",
       "      <th>8</th>\n",
       "      <td>64</td>\n",
       "      <td>4</td>\n",
       "      <td>128</td>\n",
       "      <td>0.950889</td>\n",
       "    </tr>\n",
       "    <tr>\n",
       "      <th>9</th>\n",
       "      <td>64</td>\n",
       "      <td>4</td>\n",
       "      <td>256</td>\n",
       "      <td>0.950767</td>\n",
       "    </tr>\n",
       "    <tr>\n",
       "      <th>10</th>\n",
       "      <td>64</td>\n",
       "      <td>6</td>\n",
       "      <td>128</td>\n",
       "      <td>0.953790</td>\n",
       "    </tr>\n",
       "    <tr>\n",
       "      <th>11</th>\n",
       "      <td>64</td>\n",
       "      <td>6</td>\n",
       "      <td>256</td>\n",
       "      <td>0.951011</td>\n",
       "    </tr>\n",
       "  </tbody>\n",
       "</table>\n",
       "</div>"
      ],
      "text/plain": [
       "    batch_size  epochs  n_neurons  Accuracy\n",
       "0           32       2        128  0.933541\n",
       "1           32       2        256  0.937970\n",
       "2           32       4        128  0.955745\n",
       "3           32       4        256  0.947743\n",
       "4           32       6        128  0.947224\n",
       "5           32       6        256  0.950828\n",
       "6           64       2        128  0.928288\n",
       "7           64       2        256  0.927830\n",
       "8           64       4        128  0.950889\n",
       "9           64       4        256  0.950767\n",
       "10          64       6        128  0.953790\n",
       "11          64       6        256  0.951011"
      ]
     },
     "execution_count": 8,
     "metadata": {},
     "output_type": "execute_result"
    }
   ],
   "source": [
    "pd.concat([pd.DataFrame(grid.cv_results_[\"params\"]),pd.DataFrame(grid.cv_results_[\"mean_test_score\"], columns=[\"Accuracy\"])],axis=1)"
   ]
  },
  {
   "cell_type": "code",
   "execution_count": 20,
   "metadata": {},
   "outputs": [
    {
     "name": "stdout",
     "output_type": "stream",
     "text": [
      "Best: 0.955745 using {'batch_size': 32, 'epochs': 4, 'n_neurons': 128}\n",
      "0.933541 (0.001955) with: {'batch_size': 32, 'epochs': 2, 'n_neurons': 128}\n",
      "0.937970 (0.002474) with: {'batch_size': 32, 'epochs': 2, 'n_neurons': 256}\n",
      "0.955745 (0.001985) with: {'batch_size': 32, 'epochs': 4, 'n_neurons': 128}\n",
      "0.947743 (0.003024) with: {'batch_size': 32, 'epochs': 4, 'n_neurons': 256}\n",
      "0.947224 (0.002504) with: {'batch_size': 32, 'epochs': 6, 'n_neurons': 128}\n",
      "0.950828 (0.002993) with: {'batch_size': 32, 'epochs': 6, 'n_neurons': 256}\n",
      "0.928288 (0.001222) with: {'batch_size': 64, 'epochs': 2, 'n_neurons': 128}\n",
      "0.927830 (0.005467) with: {'batch_size': 64, 'epochs': 2, 'n_neurons': 256}\n",
      "0.950889 (0.000611) with: {'batch_size': 64, 'epochs': 4, 'n_neurons': 128}\n",
      "0.950767 (0.002749) with: {'batch_size': 64, 'epochs': 4, 'n_neurons': 256}\n",
      "0.953790 (0.001435) with: {'batch_size': 64, 'epochs': 6, 'n_neurons': 128}\n",
      "0.951011 (0.000367) with: {'batch_size': 64, 'epochs': 6, 'n_neurons': 256}\n"
     ]
    }
   ],
   "source": [
    "print(\"Best: %f using %s\" % (grid.best_score_, grid.best_params_))\n",
    "means = grid.cv_results_['mean_test_score']\n",
    "stds = grid.cv_results_['std_test_score']\n",
    "params = grid.cv_results_['params']\n",
    "for mean, stdev, param in zip(means, stds, params):\n",
    "    print(\"%f (%f) with: %r\" % (mean, stdev, param))"
   ]
  },
  {
   "cell_type": "code",
   "execution_count": 23,
   "metadata": {},
   "outputs": [],
   "source": [
    "model = make_model(n_neurons=128, epoch=15)"
   ]
  },
  {
   "cell_type": "code",
   "execution_count": 5,
   "metadata": {},
   "outputs": [],
   "source": [
    "model = make_densenet()"
   ]
  },
  {
   "cell_type": "code",
   "execution_count": 40,
   "metadata": {},
   "outputs": [],
   "source": [
    "\n",
    "from tensorflow.keras.models import Sequential\n",
    "from tensorflow.keras.layers import Dense, Flatten, Conv2D, MaxPooling2D\n",
    "from tensorflow.keras.optimizers import Adam\n",
    "from tensorflow.keras.callbacks import EarlyStopping\n",
    "from tensorflow.keras.utils import to_categorical\n",
    "from keras.regularizers import l2\n",
    "\n",
    "\n",
    "model = make_model2()"
   ]
  },
  {
   "cell_type": "code",
   "execution_count": 16,
   "metadata": {},
   "outputs": [
    {
     "ename": "ValueError",
     "evalue": "The input must have 3 channels; Received `input_shape=(28, 28, 1)`",
     "output_type": "error",
     "traceback": [
      "\u001b[1;31m---------------------------------------------------------------------------\u001b[0m",
      "\u001b[1;31mValueError\u001b[0m                                Traceback (most recent call last)",
      "Cell \u001b[1;32mIn[16], line 1\u001b[0m\n\u001b[1;32m----> 1\u001b[0m model \u001b[39m=\u001b[39m make_model_res()\n",
      "Cell \u001b[1;32mIn[15], line 6\u001b[0m, in \u001b[0;36mmake_model_res\u001b[1;34m(n_neurons, epoch)\u001b[0m\n\u001b[0;32m      5\u001b[0m \u001b[39mdef\u001b[39;00m \u001b[39mmake_model_res\u001b[39m(n_neurons\u001b[39m=\u001b[39m\u001b[39m128\u001b[39m, epoch\u001b[39m=\u001b[39m\u001b[39m10\u001b[39m):\n\u001b[1;32m----> 6\u001b[0m     base_model \u001b[39m=\u001b[39m ResNet50(include_top\u001b[39m=\u001b[39;49m\u001b[39mFalse\u001b[39;49;00m, input_shape\u001b[39m=\u001b[39;49m(\u001b[39m28\u001b[39;49m, \u001b[39m28\u001b[39;49m, \u001b[39m1\u001b[39;49m))\n\u001b[0;32m      8\u001b[0m     \u001b[39m# Aggiungi un layer di GlobalAveragePooling per ridurre il numero di parametri e migliorare la generalizzazione\u001b[39;00m\n\u001b[0;32m      9\u001b[0m     x \u001b[39m=\u001b[39m base_model\u001b[39m.\u001b[39moutput\n",
      "File \u001b[1;32mc:\\Users\\Emanuele\\AppData\\Local\\Programs\\Python\\Python311\\Lib\\site-packages\\keras\\applications\\resnet.py:521\u001b[0m, in \u001b[0;36mResNet50\u001b[1;34m(include_top, weights, input_tensor, input_shape, pooling, classes, **kwargs)\u001b[0m\n\u001b[0;32m    518\u001b[0m     x \u001b[39m=\u001b[39m stack1(x, \u001b[39m256\u001b[39m, \u001b[39m6\u001b[39m, name\u001b[39m=\u001b[39m\u001b[39m\"\u001b[39m\u001b[39mconv4\u001b[39m\u001b[39m\"\u001b[39m)\n\u001b[0;32m    519\u001b[0m     \u001b[39mreturn\u001b[39;00m stack1(x, \u001b[39m512\u001b[39m, \u001b[39m3\u001b[39m, name\u001b[39m=\u001b[39m\u001b[39m\"\u001b[39m\u001b[39mconv5\u001b[39m\u001b[39m\"\u001b[39m)\n\u001b[1;32m--> 521\u001b[0m \u001b[39mreturn\u001b[39;00m ResNet(\n\u001b[0;32m    522\u001b[0m     stack_fn,\n\u001b[0;32m    523\u001b[0m     \u001b[39mFalse\u001b[39;49;00m,\n\u001b[0;32m    524\u001b[0m     \u001b[39mTrue\u001b[39;49;00m,\n\u001b[0;32m    525\u001b[0m     \u001b[39m\"\u001b[39;49m\u001b[39mresnet50\u001b[39;49m\u001b[39m\"\u001b[39;49m,\n\u001b[0;32m    526\u001b[0m     include_top,\n\u001b[0;32m    527\u001b[0m     weights,\n\u001b[0;32m    528\u001b[0m     input_tensor,\n\u001b[0;32m    529\u001b[0m     input_shape,\n\u001b[0;32m    530\u001b[0m     pooling,\n\u001b[0;32m    531\u001b[0m     classes,\n\u001b[0;32m    532\u001b[0m     \u001b[39m*\u001b[39;49m\u001b[39m*\u001b[39;49mkwargs,\n\u001b[0;32m    533\u001b[0m )\n",
      "File \u001b[1;32mc:\\Users\\Emanuele\\AppData\\Local\\Programs\\Python\\Python311\\Lib\\site-packages\\keras\\applications\\resnet.py:159\u001b[0m, in \u001b[0;36mResNet\u001b[1;34m(stack_fn, preact, use_bias, model_name, include_top, weights, input_tensor, input_shape, pooling, classes, classifier_activation, **kwargs)\u001b[0m\n\u001b[0;32m    153\u001b[0m     \u001b[39mraise\u001b[39;00m \u001b[39mValueError\u001b[39;00m(\n\u001b[0;32m    154\u001b[0m         \u001b[39m'\u001b[39m\u001b[39mIf using `weights` as `\u001b[39m\u001b[39m\"\u001b[39m\u001b[39mimagenet\u001b[39m\u001b[39m\"\u001b[39m\u001b[39m` with `include_top`\u001b[39m\u001b[39m'\u001b[39m\n\u001b[0;32m    155\u001b[0m         \u001b[39m\"\u001b[39m\u001b[39m as true, `classes` should be 1000\u001b[39m\u001b[39m\"\u001b[39m\n\u001b[0;32m    156\u001b[0m     )\n\u001b[0;32m    158\u001b[0m \u001b[39m# Determine proper input shape\u001b[39;00m\n\u001b[1;32m--> 159\u001b[0m input_shape \u001b[39m=\u001b[39m imagenet_utils\u001b[39m.\u001b[39;49mobtain_input_shape(\n\u001b[0;32m    160\u001b[0m     input_shape,\n\u001b[0;32m    161\u001b[0m     default_size\u001b[39m=\u001b[39;49m\u001b[39m224\u001b[39;49m,\n\u001b[0;32m    162\u001b[0m     min_size\u001b[39m=\u001b[39;49m\u001b[39m32\u001b[39;49m,\n\u001b[0;32m    163\u001b[0m     data_format\u001b[39m=\u001b[39;49mbackend\u001b[39m.\u001b[39;49mimage_data_format(),\n\u001b[0;32m    164\u001b[0m     require_flatten\u001b[39m=\u001b[39;49minclude_top,\n\u001b[0;32m    165\u001b[0m     weights\u001b[39m=\u001b[39;49mweights,\n\u001b[0;32m    166\u001b[0m )\n\u001b[0;32m    168\u001b[0m \u001b[39mif\u001b[39;00m input_tensor \u001b[39mis\u001b[39;00m \u001b[39mNone\u001b[39;00m:\n\u001b[0;32m    169\u001b[0m     img_input \u001b[39m=\u001b[39m layers\u001b[39m.\u001b[39mInput(shape\u001b[39m=\u001b[39minput_shape)\n",
      "File \u001b[1;32mc:\\Users\\Emanuele\\AppData\\Local\\Programs\\Python\\Python311\\Lib\\site-packages\\keras\\applications\\imagenet_utils.py:401\u001b[0m, in \u001b[0;36mobtain_input_shape\u001b[1;34m(input_shape, default_size, min_size, data_format, require_flatten, weights)\u001b[0m\n\u001b[0;32m    397\u001b[0m     \u001b[39mraise\u001b[39;00m \u001b[39mValueError\u001b[39;00m(\n\u001b[0;32m    398\u001b[0m         \u001b[39m\"\u001b[39m\u001b[39m`input_shape` must be a tuple of three integers.\u001b[39m\u001b[39m\"\u001b[39m\n\u001b[0;32m    399\u001b[0m     )\n\u001b[0;32m    400\u001b[0m \u001b[39mif\u001b[39;00m input_shape[\u001b[39m-\u001b[39m\u001b[39m1\u001b[39m] \u001b[39m!=\u001b[39m \u001b[39m3\u001b[39m \u001b[39mand\u001b[39;00m weights \u001b[39m==\u001b[39m \u001b[39m\"\u001b[39m\u001b[39mimagenet\u001b[39m\u001b[39m\"\u001b[39m:\n\u001b[1;32m--> 401\u001b[0m     \u001b[39mraise\u001b[39;00m \u001b[39mValueError\u001b[39;00m(\n\u001b[0;32m    402\u001b[0m         \u001b[39m\"\u001b[39m\u001b[39mThe input must have 3 channels; Received \u001b[39m\u001b[39m\"\u001b[39m\n\u001b[0;32m    403\u001b[0m         \u001b[39mf\u001b[39m\u001b[39m\"\u001b[39m\u001b[39m`input_shape=\u001b[39m\u001b[39m{\u001b[39;00minput_shape\u001b[39m}\u001b[39;00m\u001b[39m`\u001b[39m\u001b[39m\"\u001b[39m\n\u001b[0;32m    404\u001b[0m     )\n\u001b[0;32m    405\u001b[0m \u001b[39mif\u001b[39;00m (\n\u001b[0;32m    406\u001b[0m     input_shape[\u001b[39m0\u001b[39m] \u001b[39mis\u001b[39;00m \u001b[39mnot\u001b[39;00m \u001b[39mNone\u001b[39;00m \u001b[39mand\u001b[39;00m input_shape[\u001b[39m0\u001b[39m] \u001b[39m<\u001b[39m min_size\n\u001b[0;32m    407\u001b[0m ) \u001b[39mor\u001b[39;00m (input_shape[\u001b[39m1\u001b[39m] \u001b[39mis\u001b[39;00m \u001b[39mnot\u001b[39;00m \u001b[39mNone\u001b[39;00m \u001b[39mand\u001b[39;00m input_shape[\u001b[39m1\u001b[39m] \u001b[39m<\u001b[39m min_size):\n\u001b[0;32m    408\u001b[0m     \u001b[39mraise\u001b[39;00m \u001b[39mValueError\u001b[39;00m(\n\u001b[0;32m    409\u001b[0m         \u001b[39m\"\u001b[39m\u001b[39mInput size must be at least \u001b[39m\u001b[39m\"\u001b[39m\n\u001b[0;32m    410\u001b[0m         \u001b[39mf\u001b[39m\u001b[39m\"\u001b[39m\u001b[39m{\u001b[39;00mmin_size\u001b[39m}\u001b[39;00m\u001b[39mx\u001b[39m\u001b[39m{\u001b[39;00mmin_size\u001b[39m}\u001b[39;00m\u001b[39m; Received: \u001b[39m\u001b[39m\"\u001b[39m\n\u001b[0;32m    411\u001b[0m         \u001b[39mf\u001b[39m\u001b[39m\"\u001b[39m\u001b[39minput_shape=\u001b[39m\u001b[39m{\u001b[39;00minput_shape\u001b[39m}\u001b[39;00m\u001b[39m\"\u001b[39m\n\u001b[0;32m    412\u001b[0m     )\n",
      "\u001b[1;31mValueError\u001b[0m: The input must have 3 channels; Received `input_shape=(28, 28, 1)`"
     ]
    }
   ],
   "source": [
    "model = make_model_res()"
   ]
  },
  {
   "cell_type": "code",
   "execution_count": 9,
   "metadata": {},
   "outputs": [
    {
     "name": "stdout",
     "output_type": "stream",
     "text": [
      "Downloading data from https://storage.googleapis.com/tensorflow/keras-applications/resnet/resnet50_weights_tf_dim_ordering_tf_kernels_notop.h5\n",
      "94765736/94765736 [==============================] - 73s 1us/step\n"
     ]
    }
   ],
   "source": [
    "model = ResNet50(weights='imagenet', include_top=False)\n"
   ]
  },
  {
   "cell_type": "code",
   "execution_count": 24,
   "metadata": {},
   "outputs": [
    {
     "name": "stdout",
     "output_type": "stream",
     "text": [
      "Epoch 1/4\n",
      "1024/1024 [==============================] - 24s 22ms/step - loss: 0.7892 - accuracy: 0.8425\n",
      "Epoch 2/4\n",
      "1024/1024 [==============================] - 23s 22ms/step - loss: 0.1303 - accuracy: 0.9613\n",
      "Epoch 3/4\n",
      "1024/1024 [==============================] - 23s 23ms/step - loss: 0.0759 - accuracy: 0.9766\n",
      "Epoch 4/4\n",
      "1024/1024 [==============================] - 23s 23ms/step - loss: 0.0645 - accuracy: 0.9795\n"
     ]
    }
   ],
   "source": [
    "history = model.fit(X_train, Y_train, epochs=4) #2 epoche, 97,05&"
   ]
  },
  {
   "cell_type": "markdown",
   "id": "57e245a1",
   "metadata": {},
   "source": [
    "Compiliamo e alleniamo il nostro modello, successivamente lo salviamo nel file \"modello.h5\" (modello contenuto nella repository allenato con impostazioni differenti)."
   ]
  },
  {
   "cell_type": "code",
   "execution_count": 25,
   "metadata": {},
   "outputs": [
    {
     "data": {
      "image/png": "[encoded data removed]",
      "text/plain": [
       "<Figure size 640x480 with 1 Axes>"
      ]
     },
     "metadata": {},
     "output_type": "display_data"
    }
   ],
   "source": [
    "import matplotlib.pyplot as plt\n",
    "\n",
    "# Estrai i dati di training dall'oggetto history\n",
    "acc = history.history['accuracy']\n",
    "loss = history.history['loss']\n",
    "\n",
    "# Crea il grafico\n",
    "fig, ax = plt.subplots()\n",
    "ax.plot(acc, label='accuracy')\n",
    "ax.plot(loss, label='loss')\n",
    "ax.set_title('Accuracy and Loss')\n",
    "ax.set_xlabel('Epoch')\n",
    "ax.set_ylabel('Score')\n",
    "ax.legend()\n",
    "\n",
    "# Mostra il grafico\n",
    "plt.show()"
   ]
  },
  {
   "attachments": {},
   "cell_type": "markdown",
   "metadata": {},
   "source": [
    "Valutiamo la qualità del modello sul test-set."
   ]
  },
  {
   "cell_type": "code",
   "execution_count": 28,
   "metadata": {},
   "outputs": [
    {
     "name": "stdout",
     "output_type": "stream",
     "text": [
      "333/333 [==============================] - 3s 9ms/step - loss: 0.1721 - accuracy: 0.9545\n",
      "test loss: 0.17209301888942719\n",
      "test accuracy: 0.9544515609741211\n"
     ]
    }
   ],
   "source": [
    "# Valutiamo la validità del nostro modello sui dati di test\n",
    "results = model.evaluate(X_test, Y_test)\n",
    "# Stampiamo a video i valori\n",
    "print(f\"test loss: {results[0]}\")\n",
    "print(f\"test accuracy: {results[1]}\")"
   ]
  },
  {
   "attachments": {},
   "cell_type": "markdown",
   "metadata": {},
   "source": [
    "Salviamo il modello."
   ]
  },
  {
   "cell_type": "code",
   "execution_count": 32,
   "metadata": {},
   "outputs": [],
   "source": [
    "model.save('modello.h5')"
   ]
  },
  {
   "cell_type": "code",
   "execution_count": 5,
   "metadata": {},
   "outputs": [],
   "source": [
    "model = load_model(\"modello.h5\")"
   ]
  },
  {
   "attachments": {},
   "cell_type": "markdown",
   "id": "63ed8585",
   "metadata": {},
   "source": [
    "Effettuiamo un plotting dei risultati ottenuti."
   ]
  },
  {
   "cell_type": "code",
   "execution_count": 27,
   "metadata": {},
   "outputs": [
    {
     "name": "stdout",
     "output_type": "stream",
     "text": [
      "333/333 [==============================] - 3s 9ms/step\n"
     ]
    }
   ],
   "source": [
    "Y_prediction = model.predict(X_test)"
   ]
  },
  {
   "cell_type": "code",
   "execution_count": 30,
   "metadata": {},
   "outputs": [
    {
     "name": "stdout",
     "output_type": "stream",
     "text": [
      "['!', '(', ')', '+', '-', '0', '1', '2', '3', '4', '5', '6', '7', '8', '9', 'cos', 'div', 'eq', 'mul', 'sin', 'y', 'z', '[', ']']\n"
     ]
    }
   ],
   "source": [
    "import os\n",
    "diz = {}\n",
    "folders = [folder for folder in os.listdir(\"training\")]\n",
    "for folder,i in enumerate(folders):\n",
    "    diz[i] = folder\n",
    "labels = [key for key in diz]\n",
    "print(labels)"
   ]
  },
  {
   "cell_type": "code",
   "execution_count": 31,
   "metadata": {},
   "outputs": [
    {
     "data": {
      "image/png": "[encoded data removed]",
      "text/plain": [
       "<Figure size 1200x1200 with 2 Axes>"
      ]
     },
     "metadata": {},
     "output_type": "display_data"
    }
   ],
   "source": [
    "from sklearn.metrics import confusion_matrix\n",
    "from sklearn import metrics\n",
    "import matplotlib.pyplot as plt\n",
    "import numpy as np\n",
    "\n",
    "confusion_matrix = metrics.confusion_matrix(np.argmax(Y_test, axis=1), np.argmax(Y_prediction, axis=1))\n",
    "cm_display = metrics.ConfusionMatrixDisplay(confusion_matrix = confusion_matrix, display_labels = labels)\n",
    "\n",
    "# creazione di una nuova figura e specifica delle dimensioni desiderate\n",
    "fig, ax = plt.subplots(figsize=(12, 12))\n",
    "\n",
    "# creazione del grafico della matrice di confusione nella nuova figura\n",
    "cm_display.plot(ax=ax)\n",
    "\n",
    "plt.show()\n"
   ]
  }
 ],
 "metadata": {
  "kernelspec": {
   "display_name": "Python 3",
   "language": "python",
   "name": "python3"
  },
  "language_info": {
   "codemirror_mode": {
    "name": "ipython",
    "version": 3
   },
   "file_extension": ".py",
   "mimetype": "text/x-python",
   "name": "python",
   "nbconvert_exporter": "python",
   "pygments_lexer": "ipython3",
   "version": "3.11.2"
  },
  "orig_nbformat": 4,
  "vscode": {
   "interpreter": {
    "hash": "59b5aff54a354c5ac8e81e94f0023bd9105cc206561d2c3da44a9597d937c830"
   }
  }
 },
 "nbformat": 4,
 "nbformat_minor": 2
}
